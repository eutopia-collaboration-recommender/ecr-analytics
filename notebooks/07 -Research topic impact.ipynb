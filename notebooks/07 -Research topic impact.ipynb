{
 "cells": [
  {
   "cell_type": "markdown",
   "id": "8db736ad722f72e2",
   "metadata": {},
   "source": [
    "# Research topic impact\n"
   ]
  },
  {
   "cell_type": "code",
   "execution_count": 45,
   "id": "98929b746d12c274",
   "metadata": {
    "ExecuteTime": {
     "end_time": "2024-08-19T21:10:38.380220Z",
     "start_time": "2024-08-19T21:10:38.146046Z"
    }
   },
   "outputs": [
    {
     "data": {
      "text/html": [
       "        <script type=\"text/javascript\">\n",
       "        window.PlotlyConfig = {MathJaxConfig: 'local'};\n",
       "        if (window.MathJax && window.MathJax.Hub && window.MathJax.Hub.Config) {window.MathJax.Hub.Config({SVG: {font: \"STIX-Web\"}});}\n",
       "        if (typeof require !== 'undefined') {\n",
       "        require.undef(\"plotly\");\n",
       "        requirejs.config({\n",
       "            paths: {\n",
       "                'plotly': ['https://cdn.plot.ly/plotly-2.34.0.min']\n",
       "            }\n",
       "        });\n",
       "        require(['plotly'], function(Plotly) {\n",
       "            window._Plotly = Plotly;\n",
       "        });\n",
       "        }\n",
       "        </script>\n",
       "        "
      ]
     },
     "metadata": {},
     "output_type": "display_data"
    }
   ],
   "source": [
    "from google.cloud import bigquery\n",
    "import pandas as pd\n",
    "import plotly.express as px\n",
    "import plotly.offline as pyo\n",
    "pyo.init_notebook_mode(connected=True)"
   ]
  },
  {
   "cell_type": "code",
   "execution_count": 21,
   "id": "a792718481b7b8ce",
   "metadata": {
    "ExecuteTime": {
     "end_time": "2024-08-19T21:10:39.297381Z",
     "start_time": "2024-08-19T21:10:39.275525Z"
    }
   },
   "outputs": [],
   "source": [
    "# Global constants\n",
    "PROJECT_ID = 'collaboration-recommender'\n",
    "AUTHOR_NAME = 'Blaž Zupan'\n",
    "AUTHOR_SID = '713a7a792274caa79b9796d0ace7f081'\n",
    "# Initialize global variables\n",
    "bq_client = bigquery.Client(project=PROJECT_ID)"
   ]
  },
  {
   "cell_type": "code",
   "execution_count": 20,
   "id": "5156eb3980b43d41",
   "metadata": {
    "ExecuteTime": {
     "end_time": "2024-08-15T12:28:21.509266Z",
     "start_time": "2024-08-15T12:28:20.414855Z"
    }
   },
   "outputs": [
    {
     "data": {
      "text/html": [
       "<div>\n",
       "<style scoped>\n",
       "    .dataframe tbody tr th:only-of-type {\n",
       "        vertical-align: middle;\n",
       "    }\n",
       "\n",
       "    .dataframe tbody tr th {\n",
       "        vertical-align: top;\n",
       "    }\n",
       "\n",
       "    .dataframe thead th {\n",
       "        text-align: right;\n",
       "    }\n",
       "</style>\n",
       "<table border=\"1\" class=\"dataframe\">\n",
       "  <thead>\n",
       "    <tr style=\"text-align: right;\">\n",
       "      <th></th>\n",
       "      <th>AUTHOR_SID</th>\n",
       "      <th>AUTHOR_ORCID_ID</th>\n",
       "      <th>IS_AUTHOR_MORE_COLLABORATIVE</th>\n",
       "      <th>IS_EUTOPIA_AUTHOR</th>\n",
       "      <th>AUTHOR_FULL_NAME</th>\n",
       "    </tr>\n",
       "  </thead>\n",
       "  <tbody>\n",
       "    <tr>\n",
       "      <th>0</th>\n",
       "      <td>713a7a792274caa79b9796d0ace7f081</td>\n",
       "      <td>0000-0001-7094-1023</td>\n",
       "      <td>False</td>\n",
       "      <td>True</td>\n",
       "      <td>Blaž Zupan</td>\n",
       "    </tr>\n",
       "    <tr>\n",
       "      <th>1</th>\n",
       "      <td>ee9e8057c9556c02196d672b563dd8d5</td>\n",
       "      <td>n/a</td>\n",
       "      <td>False</td>\n",
       "      <td>True</td>\n",
       "      <td>Blaž Zupančič</td>\n",
       "    </tr>\n",
       "  </tbody>\n",
       "</table>\n",
       "</div>"
      ],
      "text/plain": [
       "                         AUTHOR_SID      AUTHOR_ORCID_ID  \\\n",
       "0  713a7a792274caa79b9796d0ace7f081  0000-0001-7094-1023   \n",
       "1  ee9e8057c9556c02196d672b563dd8d5                  n/a   \n",
       "\n",
       "   IS_AUTHOR_MORE_COLLABORATIVE  IS_EUTOPIA_AUTHOR AUTHOR_FULL_NAME  \n",
       "0                         False               True       Blaž Zupan  \n",
       "1                         False               True    Blaž Zupančič  "
      ]
     },
     "execution_count": 20,
     "metadata": {},
     "output_type": "execute_result"
    }
   ],
   "source": [
    "# Get the author's profile\n",
    "author_query = f\"\"\"\n",
    "SELECT *\n",
    "FROM PROD.DIM_AUTHOR\n",
    "WHERE AUTHOR_FULL_NAME LIKE '%{AUTHOR_NAME}%'\n",
    "\"\"\"\n",
    "\n",
    "author_df = bq_client.query(author_query).to_dataframe()\n",
    "author_df"
   ]
  },
  {
   "cell_type": "code",
   "execution_count": 22,
   "id": "7c4759de-cd63-4a75-9d38-85f86edc0481",
   "metadata": {},
   "outputs": [
    {
     "data": {
      "text/html": [
       "<div>\n",
       "<style scoped>\n",
       "    .dataframe tbody tr th:only-of-type {\n",
       "        vertical-align: middle;\n",
       "    }\n",
       "\n",
       "    .dataframe tbody tr th {\n",
       "        vertical-align: top;\n",
       "    }\n",
       "\n",
       "    .dataframe thead th {\n",
       "        text-align: right;\n",
       "    }\n",
       "</style>\n",
       "<table border=\"1\" class=\"dataframe\">\n",
       "  <thead>\n",
       "    <tr style=\"text-align: right;\">\n",
       "      <th></th>\n",
       "      <th>AUTHOR_SID</th>\n",
       "      <th>AUTHOR_ORCID_ID</th>\n",
       "      <th>IS_AUTHOR_MORE_COLLABORATIVE</th>\n",
       "      <th>IS_EUTOPIA_AUTHOR</th>\n",
       "      <th>AUTHOR_FULL_NAME</th>\n",
       "    </tr>\n",
       "  </thead>\n",
       "  <tbody>\n",
       "    <tr>\n",
       "      <th>0</th>\n",
       "      <td>713a7a792274caa79b9796d0ace7f081</td>\n",
       "      <td>0000-0001-7094-1023</td>\n",
       "      <td>False</td>\n",
       "      <td>True</td>\n",
       "      <td>Blaž Zupan</td>\n",
       "    </tr>\n",
       "  </tbody>\n",
       "</table>\n",
       "</div>"
      ],
      "text/plain": [
       "                         AUTHOR_SID      AUTHOR_ORCID_ID  \\\n",
       "0  713a7a792274caa79b9796d0ace7f081  0000-0001-7094-1023   \n",
       "\n",
       "   IS_AUTHOR_MORE_COLLABORATIVE  IS_EUTOPIA_AUTHOR AUTHOR_FULL_NAME  \n",
       "0                         False               True       Blaž Zupan  "
      ]
     },
     "execution_count": 22,
     "metadata": {},
     "output_type": "execute_result"
    }
   ],
   "source": [
    "# Get the author's profile\n",
    "one_author_query = f\"\"\"\n",
    "SELECT *\n",
    "FROM PROD.DIM_AUTHOR\n",
    "WHERE AUTHOR_SID = '{AUTHOR_SID}'\n",
    "\"\"\"\n",
    "\n",
    "one_author_df = bq_client.query(one_author_query).to_dataframe()\n",
    "one_author_df"
   ]
  },
  {
   "cell_type": "code",
   "execution_count": 24,
   "id": "88be977f3be65ae",
   "metadata": {
    "ExecuteTime": {
     "end_time": "2024-08-15T12:30:37.118153Z",
     "start_time": "2024-08-15T12:30:34.753725Z"
    }
   },
   "outputs": [
    {
     "data": {
      "text/plain": [
       "{'AUTHOR_SID': '713a7a792274caa79b9796d0ace7f081',\n",
       " 'AUTHOR_ORCID_ID': '0000-0001-7094-1023',\n",
       " 'IS_AUTHOR_MORE_COLLABORATIVE': False,\n",
       " 'IS_EUTOPIA_AUTHOR': True,\n",
       " 'AUTHOR_FULL_NAME': 'Blaž Zupan'}"
      ]
     },
     "execution_count": 24,
     "metadata": {},
     "output_type": "execute_result"
    }
   ],
   "source": [
    "author = one_author_df.to_dict(orient='records')[0]\n",
    "author"
   ]
  },
  {
   "cell_type": "code",
   "execution_count": 25,
   "id": "9fee62ed30cad307",
   "metadata": {
    "ExecuteTime": {
     "end_time": "2024-08-15T12:52:13.178210Z",
     "start_time": "2024-08-15T12:52:10.154705Z"
    }
   },
   "outputs": [],
   "source": [
    "articles_query = f\"\"\"\n",
    "WITH AUTHOR_ARTICLES AS (\n",
    "    SELECT DISTINCT ARTICLE_SID\n",
    "    FROM PROD.FCT_COLLABORATION\n",
    "    WHERE AUTHOR_SID = '{AUTHOR_SID}'\n",
    ")\n",
    "SELECT *\n",
    "FROM PROD.DIM_ARTICLE A \n",
    "    INNER JOIN AUTHOR_ARTICLES AA \n",
    "        ON A.ARTICLE_SID = AA.ARTICLE_SID\n",
    "\"\"\"\n",
    "\n",
    "articles_df = bq_client.query(articles_query).to_dataframe()"
   ]
  },
  {
   "cell_type": "code",
   "execution_count": 35,
   "id": "c240efa8179d1b26",
   "metadata": {
    "ExecuteTime": {
     "end_time": "2024-08-15T12:52:17.874985Z",
     "start_time": "2024-08-15T12:52:17.851133Z"
    }
   },
   "outputs": [
    {
     "name": "stdout",
     "output_type": "stream",
     "text": [
      "Textual features for corpus visualization using correspondence analysis\n",
      "\n",
      "Finding Patterns in Class-Labeled Data Using Data Visualization\n",
      "\n",
      "The development of an entrepreneurial mindset in primary education\n",
      "\n",
      "Gene network inference by probabilistic scoring of relationships from a factorized model of interactions\n",
      "\n",
      "Visualization-based cancer microarray data classification analysis\n",
      "\n",
      "Genome Sequence of a Lethal Strain of Xylem-Invading\n",
      "            <i>Verticillium nonalfalfae</i>\n",
      "\n",
      "What can education bring to entrepreneurship? Formal versus non-formal education\n",
      "\n",
      "scOrange—a tool for hands-on training of concepts from single-cell data analytics\n",
      "\n",
      "Data-Driven Revision of Decision Models\n",
      "\n",
      "Orthogonal matrix factorization enables integrative analysis of multiple RNA binding proteins\n",
      "\n",
      "Data Imputation in Epistatic MAPs by Network-Guided Matrix Completion\n",
      "\n",
      "Gene network inference by fusing data from diverse distributions\n",
      "\n",
      "Nomograms for visualizing support vector machines\n",
      "\n",
      "Concurrent software architectures for exploratory data analysis\n",
      "\n",
      "Educational Model for Promoting Creativity and Innovation in Primary Schools\n",
      "\n",
      "Inference of the Molecular Mechanism of Action from Genetic Interaction and Gene Expression Data\n",
      "\n",
      "Assessment of Machine Learning Reliability Methods for Quantifying the Applicability Domain of QSAR Regression Models\n",
      "\n"
     ]
    }
   ],
   "source": [
    "for i in articles_df['ARTICLE_TITLE']:\n",
    "    print(i)\n",
    "    print()"
   ]
  },
  {
   "cell_type": "code",
   "execution_count": 37,
   "id": "f6ce538a-4557-48fd-b20f-38d57566b076",
   "metadata": {},
   "outputs": [],
   "source": [
    "collaboration_query = f\"\"\"\n",
    "WITH AUTHOR_COLLABORATIONS AS (SELECT C1.AUTHOR_SID                  AS MAIN_AUTHOR,\n",
    "                                      C2.AUTHOR_SID                  AS CO_AUTHOR,\n",
    "                                      COUNT(DISTINCT C1.ARTICLE_SID) AS SHARED_ARTICLE_COUNT,\n",
    "                                      SUM(A.ARTICLE_CITATION_COUNT)  AS TOTAL_CITATIONS\n",
    "                               FROM `collaboration-recommender.PROD.FCT_COLLABORATION` C1\n",
    "                                        JOIN `collaboration-recommender.PROD.FCT_COLLABORATION` C2\n",
    "                                             ON C1.ARTICLE_SID = C2.ARTICLE_SID\n",
    "                                        JOIN `collaboration-recommender.PROD.FCT_ARTICLE` a\n",
    "                                             ON C1.ARTICLE_SID = a.ARTICLE_SID\n",
    "                               WHERE C1.AUTHOR_SID = '{AUTHOR_SID}'\n",
    "                                 AND C1.AUTHOR_SID <> C2.AUTHOR_SID -- Exclude the main author from being listed as their own collaborator\n",
    "                               GROUP BY C1.AUTHOR_SID, C2.AUTHOR_SID)\n",
    "\n",
    "SELECT MAIN_AUTHOR,\n",
    "       CO_AUTHOR,\n",
    "       SHARED_ARTICLE_COUNT,\n",
    "       TOTAL_CITATIONS\n",
    "FROM AUTHOR_COLLABORATIONS\n",
    "ORDER BY SHARED_ARTICLE_COUNT DESC, TOTAL_CITATIONS DESC;\n",
    "\"\"\"\n",
    "\n",
    "collaboration_df = bq_client.query(collaboration_query).to_dataframe()"
   ]
  },
  {
   "cell_type": "code",
   "execution_count": 47,
   "id": "bb41ebbd-649f-4765-ba0c-583dff61e50e",
   "metadata": {},
   "outputs": [
    {
     "data": {
      "application/vnd.plotly.v1+json": {
       "config": {
        "plotlyServerURL": "https://plot.ly"
       },
       "data": [
        {
         "alignmentgroup": "True",
         "customdata": [
          [
           159
          ],
          [
           147
          ],
          [
           109
          ],
          [
           108
          ],
          [
           54
          ],
          [
           54
          ],
          [
           51
          ],
          [
           43
          ],
          [
           7
          ],
          [
           102
          ],
          [
           94
          ],
          [
           51
          ],
          [
           51
          ],
          [
           47
          ],
          [
           47
          ],
          [
           47
          ],
          [
           47
          ],
          [
           47
          ],
          [
           47
          ],
          [
           47
          ],
          [
           37
          ],
          [
           37
          ],
          [
           37
          ],
          [
           33
          ],
          [
           13
          ],
          [
           13
          ],
          [
           13
          ],
          [
           13
          ],
          [
           13
          ],
          [
           13
          ],
          [
           13
          ],
          [
           13
          ],
          [
           13
          ],
          [
           10
          ],
          [
           8
          ],
          [
           8
          ],
          [
           8
          ],
          [
           8
          ],
          [
           7
          ],
          [
           7
          ],
          [
           7
          ],
          [
           7
          ],
          [
           7
          ],
          [
           7
          ],
          [
           7
          ],
          [
           7
          ],
          [
           7
          ],
          [
           6
          ],
          [
           6
          ],
          [
           6
          ],
          [
           0
          ],
          [
           0
          ]
         ],
         "hovertemplate": "Co-Author=%{x}<br>Number of Shared Articles=%{y}<br>Total Citations=%{customdata[0]}<extra></extra>",
         "legendgroup": "",
         "marker": {
          "color": "#636efa",
          "pattern": {
           "shape": ""
          }
         },
         "name": "",
         "offsetgroup": "",
         "orientation": "v",
         "showlegend": false,
         "text": [
          159,
          147,
          109,
          108,
          54,
          54,
          51,
          43,
          7,
          102,
          94,
          51,
          51,
          47,
          47,
          47,
          47,
          47,
          47,
          47,
          37,
          37,
          37,
          33,
          13,
          13,
          13,
          13,
          13,
          13,
          13,
          13,
          13,
          10,
          8,
          8,
          8,
          8,
          7,
          7,
          7,
          7,
          7,
          7,
          7,
          7,
          7,
          6,
          6,
          6,
          0,
          0
         ],
         "textposition": "auto",
         "type": "bar",
         "x": [
          "771b02ba97ad3166429465278e625898",
          "ae702b9feb51af2c5d94bb6d2fda16d4",
          "07b84aa149141bd9902092e65b0ae940",
          "170c9492a9a50fb8a99c45b8cbbf6f55",
          "568e25f1f521eff8162b7f8b25d77557",
          "00f811f666288ddf642794ffda6750c4",
          "2e634079be9a77d9fa6de80335b1ca01",
          "6147be553d1ebb7149fde798437160bc",
          "346bab38ac7e35e74b2665f6797ed320",
          "8fd1a3c13e81555c0816e50e2920e4d2",
          "2e48fbda1898b39f7b2c9e3dd2cdee62",
          "a3e9cbac4cc7f577d7ef3e3027b1069e",
          "42146d0da549152055a7e23ec2286db9",
          "8828ea59464296c7cada08b6eb910cb7",
          "0666975194b979da8d9b57be5f230c4a",
          "376264a1afee2e6f6ba9c222a04e0f1c",
          "c83a15795ab169a2264420a7cb9f74ab",
          "afbf5b0f0f13e14a727aa56f605098fa",
          "500ed89de599d4302e4a286a124aadf3",
          "e477bb0a558a9460165ee72578bc32b0",
          "b032a9504be6bf8668a14d0b84177235",
          "e4ac1cce1c946b26774349f8362911f6",
          "47272ef09775708c7fb5a899c7e69e40",
          "8deb9a8a3d42bd2f5b6cd001de8d9640",
          "b813145e1f25f190879151580938b21d",
          "8d292eff7e98ec4d1024995df486445c",
          "12d6b5e5a791029b893bf3f08733aec2",
          "4b32b31652feb38764fda73acaadb24c",
          "b622f654746f150068bbb2387e7535af",
          "7547085bab939c6f430fa0376f168aee",
          "7d95763dde92317e83563ece6960370f",
          "17804c17dcc0e6cf7deeffcc6a8c2c48",
          "47c281e128c0e42eddeecf27122e7ea7",
          "51775e1fad81c65f707e9e55981a36d2",
          "0541426fdbdbb6175d381efb69a082f3",
          "a19dd7d1c7c19c582be38261c77f0168",
          "c1b3412869291c563de8d4f4e4db36b5",
          "a9cdf6db04d54a6185ff323bc2dc1f5e",
          "015005fabc27c0c3dfb8ec10941c03b9",
          "6788c524402e2413ccf2abc4fd3abe13",
          "adde2cc26fc87e4c17c6570c95ac4210",
          "899bddfa49bcf53250d7816867b37b31",
          "9b98dbf35c6e91b8d86503a2ea79d174",
          "f38ee40893751391aa86115e87c1b3c8",
          "a3c1d29820d20bc0e178e1bac8b6b3da",
          "ede1dc44f7d050acb23d8e2e8930fdbf",
          "db1be65ec31cbfaccff774f3a0922cad",
          "bbc9a194cef13b53cd3afa214075fe7b",
          "c10ab830d18a9836d3511d5bb0fd9f48",
          "17caa206082aa749e10edfeaca15cc53",
          "3c23aba54512ffb4dc4640f0537c148c",
          "591186791263b89f0596bc7f2fe6db43"
         ],
         "xaxis": "x",
         "y": [
          6,
          4,
          2,
          2,
          2,
          2,
          2,
          2,
          2,
          1,
          1,
          1,
          1,
          1,
          1,
          1,
          1,
          1,
          1,
          1,
          1,
          1,
          1,
          1,
          1,
          1,
          1,
          1,
          1,
          1,
          1,
          1,
          1,
          1,
          1,
          1,
          1,
          1,
          1,
          1,
          1,
          1,
          1,
          1,
          1,
          1,
          1,
          1,
          1,
          1,
          1,
          1
         ],
         "yaxis": "y"
        }
       ],
       "layout": {
        "barmode": "relative",
        "legend": {
         "tracegroupgap": 0
        },
        "template": {
         "data": {
          "bar": [
           {
            "error_x": {
             "color": "#2a3f5f"
            },
            "error_y": {
             "color": "#2a3f5f"
            },
            "marker": {
             "line": {
              "color": "#E5ECF6",
              "width": 0.5
             },
             "pattern": {
              "fillmode": "overlay",
              "size": 10,
              "solidity": 0.2
             }
            },
            "type": "bar"
           }
          ],
          "barpolar": [
           {
            "marker": {
             "line": {
              "color": "#E5ECF6",
              "width": 0.5
             },
             "pattern": {
              "fillmode": "overlay",
              "size": 10,
              "solidity": 0.2
             }
            },
            "type": "barpolar"
           }
          ],
          "carpet": [
           {
            "aaxis": {
             "endlinecolor": "#2a3f5f",
             "gridcolor": "white",
             "linecolor": "white",
             "minorgridcolor": "white",
             "startlinecolor": "#2a3f5f"
            },
            "baxis": {
             "endlinecolor": "#2a3f5f",
             "gridcolor": "white",
             "linecolor": "white",
             "minorgridcolor": "white",
             "startlinecolor": "#2a3f5f"
            },
            "type": "carpet"
           }
          ],
          "choropleth": [
           {
            "colorbar": {
             "outlinewidth": 0,
             "ticks": ""
            },
            "type": "choropleth"
           }
          ],
          "contour": [
           {
            "colorbar": {
             "outlinewidth": 0,
             "ticks": ""
            },
            "colorscale": [
             [
              0,
              "#0d0887"
             ],
             [
              0.1111111111111111,
              "#46039f"
             ],
             [
              0.2222222222222222,
              "#7201a8"
             ],
             [
              0.3333333333333333,
              "#9c179e"
             ],
             [
              0.4444444444444444,
              "#bd3786"
             ],
             [
              0.5555555555555556,
              "#d8576b"
             ],
             [
              0.6666666666666666,
              "#ed7953"
             ],
             [
              0.7777777777777778,
              "#fb9f3a"
             ],
             [
              0.8888888888888888,
              "#fdca26"
             ],
             [
              1,
              "#f0f921"
             ]
            ],
            "type": "contour"
           }
          ],
          "contourcarpet": [
           {
            "colorbar": {
             "outlinewidth": 0,
             "ticks": ""
            },
            "type": "contourcarpet"
           }
          ],
          "heatmap": [
           {
            "colorbar": {
             "outlinewidth": 0,
             "ticks": ""
            },
            "colorscale": [
             [
              0,
              "#0d0887"
             ],
             [
              0.1111111111111111,
              "#46039f"
             ],
             [
              0.2222222222222222,
              "#7201a8"
             ],
             [
              0.3333333333333333,
              "#9c179e"
             ],
             [
              0.4444444444444444,
              "#bd3786"
             ],
             [
              0.5555555555555556,
              "#d8576b"
             ],
             [
              0.6666666666666666,
              "#ed7953"
             ],
             [
              0.7777777777777778,
              "#fb9f3a"
             ],
             [
              0.8888888888888888,
              "#fdca26"
             ],
             [
              1,
              "#f0f921"
             ]
            ],
            "type": "heatmap"
           }
          ],
          "heatmapgl": [
           {
            "colorbar": {
             "outlinewidth": 0,
             "ticks": ""
            },
            "colorscale": [
             [
              0,
              "#0d0887"
             ],
             [
              0.1111111111111111,
              "#46039f"
             ],
             [
              0.2222222222222222,
              "#7201a8"
             ],
             [
              0.3333333333333333,
              "#9c179e"
             ],
             [
              0.4444444444444444,
              "#bd3786"
             ],
             [
              0.5555555555555556,
              "#d8576b"
             ],
             [
              0.6666666666666666,
              "#ed7953"
             ],
             [
              0.7777777777777778,
              "#fb9f3a"
             ],
             [
              0.8888888888888888,
              "#fdca26"
             ],
             [
              1,
              "#f0f921"
             ]
            ],
            "type": "heatmapgl"
           }
          ],
          "histogram": [
           {
            "marker": {
             "pattern": {
              "fillmode": "overlay",
              "size": 10,
              "solidity": 0.2
             }
            },
            "type": "histogram"
           }
          ],
          "histogram2d": [
           {
            "colorbar": {
             "outlinewidth": 0,
             "ticks": ""
            },
            "colorscale": [
             [
              0,
              "#0d0887"
             ],
             [
              0.1111111111111111,
              "#46039f"
             ],
             [
              0.2222222222222222,
              "#7201a8"
             ],
             [
              0.3333333333333333,
              "#9c179e"
             ],
             [
              0.4444444444444444,
              "#bd3786"
             ],
             [
              0.5555555555555556,
              "#d8576b"
             ],
             [
              0.6666666666666666,
              "#ed7953"
             ],
             [
              0.7777777777777778,
              "#fb9f3a"
             ],
             [
              0.8888888888888888,
              "#fdca26"
             ],
             [
              1,
              "#f0f921"
             ]
            ],
            "type": "histogram2d"
           }
          ],
          "histogram2dcontour": [
           {
            "colorbar": {
             "outlinewidth": 0,
             "ticks": ""
            },
            "colorscale": [
             [
              0,
              "#0d0887"
             ],
             [
              0.1111111111111111,
              "#46039f"
             ],
             [
              0.2222222222222222,
              "#7201a8"
             ],
             [
              0.3333333333333333,
              "#9c179e"
             ],
             [
              0.4444444444444444,
              "#bd3786"
             ],
             [
              0.5555555555555556,
              "#d8576b"
             ],
             [
              0.6666666666666666,
              "#ed7953"
             ],
             [
              0.7777777777777778,
              "#fb9f3a"
             ],
             [
              0.8888888888888888,
              "#fdca26"
             ],
             [
              1,
              "#f0f921"
             ]
            ],
            "type": "histogram2dcontour"
           }
          ],
          "mesh3d": [
           {
            "colorbar": {
             "outlinewidth": 0,
             "ticks": ""
            },
            "type": "mesh3d"
           }
          ],
          "parcoords": [
           {
            "line": {
             "colorbar": {
              "outlinewidth": 0,
              "ticks": ""
             }
            },
            "type": "parcoords"
           }
          ],
          "pie": [
           {
            "automargin": true,
            "type": "pie"
           }
          ],
          "scatter": [
           {
            "fillpattern": {
             "fillmode": "overlay",
             "size": 10,
             "solidity": 0.2
            },
            "type": "scatter"
           }
          ],
          "scatter3d": [
           {
            "line": {
             "colorbar": {
              "outlinewidth": 0,
              "ticks": ""
             }
            },
            "marker": {
             "colorbar": {
              "outlinewidth": 0,
              "ticks": ""
             }
            },
            "type": "scatter3d"
           }
          ],
          "scattercarpet": [
           {
            "marker": {
             "colorbar": {
              "outlinewidth": 0,
              "ticks": ""
             }
            },
            "type": "scattercarpet"
           }
          ],
          "scattergeo": [
           {
            "marker": {
             "colorbar": {
              "outlinewidth": 0,
              "ticks": ""
             }
            },
            "type": "scattergeo"
           }
          ],
          "scattergl": [
           {
            "marker": {
             "colorbar": {
              "outlinewidth": 0,
              "ticks": ""
             }
            },
            "type": "scattergl"
           }
          ],
          "scattermapbox": [
           {
            "marker": {
             "colorbar": {
              "outlinewidth": 0,
              "ticks": ""
             }
            },
            "type": "scattermapbox"
           }
          ],
          "scatterpolar": [
           {
            "marker": {
             "colorbar": {
              "outlinewidth": 0,
              "ticks": ""
             }
            },
            "type": "scatterpolar"
           }
          ],
          "scatterpolargl": [
           {
            "marker": {
             "colorbar": {
              "outlinewidth": 0,
              "ticks": ""
             }
            },
            "type": "scatterpolargl"
           }
          ],
          "scatterternary": [
           {
            "marker": {
             "colorbar": {
              "outlinewidth": 0,
              "ticks": ""
             }
            },
            "type": "scatterternary"
           }
          ],
          "surface": [
           {
            "colorbar": {
             "outlinewidth": 0,
             "ticks": ""
            },
            "colorscale": [
             [
              0,
              "#0d0887"
             ],
             [
              0.1111111111111111,
              "#46039f"
             ],
             [
              0.2222222222222222,
              "#7201a8"
             ],
             [
              0.3333333333333333,
              "#9c179e"
             ],
             [
              0.4444444444444444,
              "#bd3786"
             ],
             [
              0.5555555555555556,
              "#d8576b"
             ],
             [
              0.6666666666666666,
              "#ed7953"
             ],
             [
              0.7777777777777778,
              "#fb9f3a"
             ],
             [
              0.8888888888888888,
              "#fdca26"
             ],
             [
              1,
              "#f0f921"
             ]
            ],
            "type": "surface"
           }
          ],
          "table": [
           {
            "cells": {
             "fill": {
              "color": "#EBF0F8"
             },
             "line": {
              "color": "white"
             }
            },
            "header": {
             "fill": {
              "color": "#C8D4E3"
             },
             "line": {
              "color": "white"
             }
            },
            "type": "table"
           }
          ]
         },
         "layout": {
          "annotationdefaults": {
           "arrowcolor": "#2a3f5f",
           "arrowhead": 0,
           "arrowwidth": 1
          },
          "autotypenumbers": "strict",
          "coloraxis": {
           "colorbar": {
            "outlinewidth": 0,
            "ticks": ""
           }
          },
          "colorscale": {
           "diverging": [
            [
             0,
             "#8e0152"
            ],
            [
             0.1,
             "#c51b7d"
            ],
            [
             0.2,
             "#de77ae"
            ],
            [
             0.3,
             "#f1b6da"
            ],
            [
             0.4,
             "#fde0ef"
            ],
            [
             0.5,
             "#f7f7f7"
            ],
            [
             0.6,
             "#e6f5d0"
            ],
            [
             0.7,
             "#b8e186"
            ],
            [
             0.8,
             "#7fbc41"
            ],
            [
             0.9,
             "#4d9221"
            ],
            [
             1,
             "#276419"
            ]
           ],
           "sequential": [
            [
             0,
             "#0d0887"
            ],
            [
             0.1111111111111111,
             "#46039f"
            ],
            [
             0.2222222222222222,
             "#7201a8"
            ],
            [
             0.3333333333333333,
             "#9c179e"
            ],
            [
             0.4444444444444444,
             "#bd3786"
            ],
            [
             0.5555555555555556,
             "#d8576b"
            ],
            [
             0.6666666666666666,
             "#ed7953"
            ],
            [
             0.7777777777777778,
             "#fb9f3a"
            ],
            [
             0.8888888888888888,
             "#fdca26"
            ],
            [
             1,
             "#f0f921"
            ]
           ],
           "sequentialminus": [
            [
             0,
             "#0d0887"
            ],
            [
             0.1111111111111111,
             "#46039f"
            ],
            [
             0.2222222222222222,
             "#7201a8"
            ],
            [
             0.3333333333333333,
             "#9c179e"
            ],
            [
             0.4444444444444444,
             "#bd3786"
            ],
            [
             0.5555555555555556,
             "#d8576b"
            ],
            [
             0.6666666666666666,
             "#ed7953"
            ],
            [
             0.7777777777777778,
             "#fb9f3a"
            ],
            [
             0.8888888888888888,
             "#fdca26"
            ],
            [
             1,
             "#f0f921"
            ]
           ]
          },
          "colorway": [
           "#636efa",
           "#EF553B",
           "#00cc96",
           "#ab63fa",
           "#FFA15A",
           "#19d3f3",
           "#FF6692",
           "#B6E880",
           "#FF97FF",
           "#FECB52"
          ],
          "font": {
           "color": "#2a3f5f"
          },
          "geo": {
           "bgcolor": "white",
           "lakecolor": "white",
           "landcolor": "#E5ECF6",
           "showlakes": true,
           "showland": true,
           "subunitcolor": "white"
          },
          "hoverlabel": {
           "align": "left"
          },
          "hovermode": "closest",
          "mapbox": {
           "style": "light"
          },
          "paper_bgcolor": "white",
          "plot_bgcolor": "#E5ECF6",
          "polar": {
           "angularaxis": {
            "gridcolor": "white",
            "linecolor": "white",
            "ticks": ""
           },
           "bgcolor": "#E5ECF6",
           "radialaxis": {
            "gridcolor": "white",
            "linecolor": "white",
            "ticks": ""
           }
          },
          "scene": {
           "xaxis": {
            "backgroundcolor": "#E5ECF6",
            "gridcolor": "white",
            "gridwidth": 2,
            "linecolor": "white",
            "showbackground": true,
            "ticks": "",
            "zerolinecolor": "white"
           },
           "yaxis": {
            "backgroundcolor": "#E5ECF6",
            "gridcolor": "white",
            "gridwidth": 2,
            "linecolor": "white",
            "showbackground": true,
            "ticks": "",
            "zerolinecolor": "white"
           },
           "zaxis": {
            "backgroundcolor": "#E5ECF6",
            "gridcolor": "white",
            "gridwidth": 2,
            "linecolor": "white",
            "showbackground": true,
            "ticks": "",
            "zerolinecolor": "white"
           }
          },
          "shapedefaults": {
           "line": {
            "color": "#2a3f5f"
           }
          },
          "ternary": {
           "aaxis": {
            "gridcolor": "white",
            "linecolor": "white",
            "ticks": ""
           },
           "baxis": {
            "gridcolor": "white",
            "linecolor": "white",
            "ticks": ""
           },
           "bgcolor": "#E5ECF6",
           "caxis": {
            "gridcolor": "white",
            "linecolor": "white",
            "ticks": ""
           }
          },
          "title": {
           "x": 0.05
          },
          "xaxis": {
           "automargin": true,
           "gridcolor": "white",
           "linecolor": "white",
           "ticks": "",
           "title": {
            "standoff": 15
           },
           "zerolinecolor": "white",
           "zerolinewidth": 2
          },
          "yaxis": {
           "automargin": true,
           "gridcolor": "white",
           "linecolor": "white",
           "ticks": "",
           "title": {
            "standoff": 15
           },
           "zerolinecolor": "white",
           "zerolinewidth": 2
          }
         }
        },
        "title": {
         "text": "Collaboration Metrics for Author with SID your_author_sid_here"
        },
        "xaxis": {
         "anchor": "y",
         "domain": [
          0,
          1
         ],
         "title": {
          "text": "Co-Author"
         }
        },
        "yaxis": {
         "anchor": "x",
         "domain": [
          0,
          1
         ],
         "title": {
          "text": "Number of Shared Articles"
         }
        }
       }
      },
      "text/html": [
       "<div>                            <div id=\"506863a7-9ea9-4e30-ad01-17ec20b156d4\" class=\"plotly-graph-div\" style=\"height:525px; width:100%;\"></div>            <script type=\"text/javascript\">                require([\"plotly\"], function(Plotly) {                    window.PLOTLYENV=window.PLOTLYENV || {};                                    if (document.getElementById(\"506863a7-9ea9-4e30-ad01-17ec20b156d4\")) {                    Plotly.newPlot(                        \"506863a7-9ea9-4e30-ad01-17ec20b156d4\",                        [{\"alignmentgroup\":\"True\",\"customdata\":[[159],[147],[109],[108],[54],[54],[51],[43],[7],[102],[94],[51],[51],[47],[47],[47],[47],[47],[47],[47],[37],[37],[37],[33],[13],[13],[13],[13],[13],[13],[13],[13],[13],[10],[8],[8],[8],[8],[7],[7],[7],[7],[7],[7],[7],[7],[7],[6],[6],[6],[0],[0]],\"hovertemplate\":\"Co-Author=%{x}\\u003cbr\\u003eNumber of Shared Articles=%{y}\\u003cbr\\u003eTotal Citations=%{customdata[0]}\\u003cextra\\u003e\\u003c\\u002fextra\\u003e\",\"legendgroup\":\"\",\"marker\":{\"color\":\"#636efa\",\"pattern\":{\"shape\":\"\"}},\"name\":\"\",\"offsetgroup\":\"\",\"orientation\":\"v\",\"showlegend\":false,\"text\":[159.0,147.0,109.0,108.0,54.0,54.0,51.0,43.0,7.0,102.0,94.0,51.0,51.0,47.0,47.0,47.0,47.0,47.0,47.0,47.0,37.0,37.0,37.0,33.0,13.0,13.0,13.0,13.0,13.0,13.0,13.0,13.0,13.0,10.0,8.0,8.0,8.0,8.0,7.0,7.0,7.0,7.0,7.0,7.0,7.0,7.0,7.0,6.0,6.0,6.0,0.0,0.0],\"textposition\":\"auto\",\"x\":[\"771b02ba97ad3166429465278e625898\",\"ae702b9feb51af2c5d94bb6d2fda16d4\",\"07b84aa149141bd9902092e65b0ae940\",\"170c9492a9a50fb8a99c45b8cbbf6f55\",\"568e25f1f521eff8162b7f8b25d77557\",\"00f811f666288ddf642794ffda6750c4\",\"2e634079be9a77d9fa6de80335b1ca01\",\"6147be553d1ebb7149fde798437160bc\",\"346bab38ac7e35e74b2665f6797ed320\",\"8fd1a3c13e81555c0816e50e2920e4d2\",\"2e48fbda1898b39f7b2c9e3dd2cdee62\",\"a3e9cbac4cc7f577d7ef3e3027b1069e\",\"42146d0da549152055a7e23ec2286db9\",\"8828ea59464296c7cada08b6eb910cb7\",\"0666975194b979da8d9b57be5f230c4a\",\"376264a1afee2e6f6ba9c222a04e0f1c\",\"c83a15795ab169a2264420a7cb9f74ab\",\"afbf5b0f0f13e14a727aa56f605098fa\",\"500ed89de599d4302e4a286a124aadf3\",\"e477bb0a558a9460165ee72578bc32b0\",\"b032a9504be6bf8668a14d0b84177235\",\"e4ac1cce1c946b26774349f8362911f6\",\"47272ef09775708c7fb5a899c7e69e40\",\"8deb9a8a3d42bd2f5b6cd001de8d9640\",\"b813145e1f25f190879151580938b21d\",\"8d292eff7e98ec4d1024995df486445c\",\"12d6b5e5a791029b893bf3f08733aec2\",\"4b32b31652feb38764fda73acaadb24c\",\"b622f654746f150068bbb2387e7535af\",\"7547085bab939c6f430fa0376f168aee\",\"7d95763dde92317e83563ece6960370f\",\"17804c17dcc0e6cf7deeffcc6a8c2c48\",\"47c281e128c0e42eddeecf27122e7ea7\",\"51775e1fad81c65f707e9e55981a36d2\",\"0541426fdbdbb6175d381efb69a082f3\",\"a19dd7d1c7c19c582be38261c77f0168\",\"c1b3412869291c563de8d4f4e4db36b5\",\"a9cdf6db04d54a6185ff323bc2dc1f5e\",\"015005fabc27c0c3dfb8ec10941c03b9\",\"6788c524402e2413ccf2abc4fd3abe13\",\"adde2cc26fc87e4c17c6570c95ac4210\",\"899bddfa49bcf53250d7816867b37b31\",\"9b98dbf35c6e91b8d86503a2ea79d174\",\"f38ee40893751391aa86115e87c1b3c8\",\"a3c1d29820d20bc0e178e1bac8b6b3da\",\"ede1dc44f7d050acb23d8e2e8930fdbf\",\"db1be65ec31cbfaccff774f3a0922cad\",\"bbc9a194cef13b53cd3afa214075fe7b\",\"c10ab830d18a9836d3511d5bb0fd9f48\",\"17caa206082aa749e10edfeaca15cc53\",\"3c23aba54512ffb4dc4640f0537c148c\",\"591186791263b89f0596bc7f2fe6db43\"],\"xaxis\":\"x\",\"y\":[6,4,2,2,2,2,2,2,2,1,1,1,1,1,1,1,1,1,1,1,1,1,1,1,1,1,1,1,1,1,1,1,1,1,1,1,1,1,1,1,1,1,1,1,1,1,1,1,1,1,1,1],\"yaxis\":\"y\",\"type\":\"bar\"}],                        {\"template\":{\"data\":{\"histogram2dcontour\":[{\"type\":\"histogram2dcontour\",\"colorbar\":{\"outlinewidth\":0,\"ticks\":\"\"},\"colorscale\":[[0.0,\"#0d0887\"],[0.1111111111111111,\"#46039f\"],[0.2222222222222222,\"#7201a8\"],[0.3333333333333333,\"#9c179e\"],[0.4444444444444444,\"#bd3786\"],[0.5555555555555556,\"#d8576b\"],[0.6666666666666666,\"#ed7953\"],[0.7777777777777778,\"#fb9f3a\"],[0.8888888888888888,\"#fdca26\"],[1.0,\"#f0f921\"]]}],\"choropleth\":[{\"type\":\"choropleth\",\"colorbar\":{\"outlinewidth\":0,\"ticks\":\"\"}}],\"histogram2d\":[{\"type\":\"histogram2d\",\"colorbar\":{\"outlinewidth\":0,\"ticks\":\"\"},\"colorscale\":[[0.0,\"#0d0887\"],[0.1111111111111111,\"#46039f\"],[0.2222222222222222,\"#7201a8\"],[0.3333333333333333,\"#9c179e\"],[0.4444444444444444,\"#bd3786\"],[0.5555555555555556,\"#d8576b\"],[0.6666666666666666,\"#ed7953\"],[0.7777777777777778,\"#fb9f3a\"],[0.8888888888888888,\"#fdca26\"],[1.0,\"#f0f921\"]]}],\"heatmap\":[{\"type\":\"heatmap\",\"colorbar\":{\"outlinewidth\":0,\"ticks\":\"\"},\"colorscale\":[[0.0,\"#0d0887\"],[0.1111111111111111,\"#46039f\"],[0.2222222222222222,\"#7201a8\"],[0.3333333333333333,\"#9c179e\"],[0.4444444444444444,\"#bd3786\"],[0.5555555555555556,\"#d8576b\"],[0.6666666666666666,\"#ed7953\"],[0.7777777777777778,\"#fb9f3a\"],[0.8888888888888888,\"#fdca26\"],[1.0,\"#f0f921\"]]}],\"heatmapgl\":[{\"type\":\"heatmapgl\",\"colorbar\":{\"outlinewidth\":0,\"ticks\":\"\"},\"colorscale\":[[0.0,\"#0d0887\"],[0.1111111111111111,\"#46039f\"],[0.2222222222222222,\"#7201a8\"],[0.3333333333333333,\"#9c179e\"],[0.4444444444444444,\"#bd3786\"],[0.5555555555555556,\"#d8576b\"],[0.6666666666666666,\"#ed7953\"],[0.7777777777777778,\"#fb9f3a\"],[0.8888888888888888,\"#fdca26\"],[1.0,\"#f0f921\"]]}],\"contourcarpet\":[{\"type\":\"contourcarpet\",\"colorbar\":{\"outlinewidth\":0,\"ticks\":\"\"}}],\"contour\":[{\"type\":\"contour\",\"colorbar\":{\"outlinewidth\":0,\"ticks\":\"\"},\"colorscale\":[[0.0,\"#0d0887\"],[0.1111111111111111,\"#46039f\"],[0.2222222222222222,\"#7201a8\"],[0.3333333333333333,\"#9c179e\"],[0.4444444444444444,\"#bd3786\"],[0.5555555555555556,\"#d8576b\"],[0.6666666666666666,\"#ed7953\"],[0.7777777777777778,\"#fb9f3a\"],[0.8888888888888888,\"#fdca26\"],[1.0,\"#f0f921\"]]}],\"surface\":[{\"type\":\"surface\",\"colorbar\":{\"outlinewidth\":0,\"ticks\":\"\"},\"colorscale\":[[0.0,\"#0d0887\"],[0.1111111111111111,\"#46039f\"],[0.2222222222222222,\"#7201a8\"],[0.3333333333333333,\"#9c179e\"],[0.4444444444444444,\"#bd3786\"],[0.5555555555555556,\"#d8576b\"],[0.6666666666666666,\"#ed7953\"],[0.7777777777777778,\"#fb9f3a\"],[0.8888888888888888,\"#fdca26\"],[1.0,\"#f0f921\"]]}],\"mesh3d\":[{\"type\":\"mesh3d\",\"colorbar\":{\"outlinewidth\":0,\"ticks\":\"\"}}],\"scatter\":[{\"fillpattern\":{\"fillmode\":\"overlay\",\"size\":10,\"solidity\":0.2},\"type\":\"scatter\"}],\"parcoords\":[{\"type\":\"parcoords\",\"line\":{\"colorbar\":{\"outlinewidth\":0,\"ticks\":\"\"}}}],\"scatterpolargl\":[{\"type\":\"scatterpolargl\",\"marker\":{\"colorbar\":{\"outlinewidth\":0,\"ticks\":\"\"}}}],\"bar\":[{\"error_x\":{\"color\":\"#2a3f5f\"},\"error_y\":{\"color\":\"#2a3f5f\"},\"marker\":{\"line\":{\"color\":\"#E5ECF6\",\"width\":0.5},\"pattern\":{\"fillmode\":\"overlay\",\"size\":10,\"solidity\":0.2}},\"type\":\"bar\"}],\"scattergeo\":[{\"type\":\"scattergeo\",\"marker\":{\"colorbar\":{\"outlinewidth\":0,\"ticks\":\"\"}}}],\"scatterpolar\":[{\"type\":\"scatterpolar\",\"marker\":{\"colorbar\":{\"outlinewidth\":0,\"ticks\":\"\"}}}],\"histogram\":[{\"marker\":{\"pattern\":{\"fillmode\":\"overlay\",\"size\":10,\"solidity\":0.2}},\"type\":\"histogram\"}],\"scattergl\":[{\"type\":\"scattergl\",\"marker\":{\"colorbar\":{\"outlinewidth\":0,\"ticks\":\"\"}}}],\"scatter3d\":[{\"type\":\"scatter3d\",\"line\":{\"colorbar\":{\"outlinewidth\":0,\"ticks\":\"\"}},\"marker\":{\"colorbar\":{\"outlinewidth\":0,\"ticks\":\"\"}}}],\"scattermapbox\":[{\"type\":\"scattermapbox\",\"marker\":{\"colorbar\":{\"outlinewidth\":0,\"ticks\":\"\"}}}],\"scatterternary\":[{\"type\":\"scatterternary\",\"marker\":{\"colorbar\":{\"outlinewidth\":0,\"ticks\":\"\"}}}],\"scattercarpet\":[{\"type\":\"scattercarpet\",\"marker\":{\"colorbar\":{\"outlinewidth\":0,\"ticks\":\"\"}}}],\"carpet\":[{\"aaxis\":{\"endlinecolor\":\"#2a3f5f\",\"gridcolor\":\"white\",\"linecolor\":\"white\",\"minorgridcolor\":\"white\",\"startlinecolor\":\"#2a3f5f\"},\"baxis\":{\"endlinecolor\":\"#2a3f5f\",\"gridcolor\":\"white\",\"linecolor\":\"white\",\"minorgridcolor\":\"white\",\"startlinecolor\":\"#2a3f5f\"},\"type\":\"carpet\"}],\"table\":[{\"cells\":{\"fill\":{\"color\":\"#EBF0F8\"},\"line\":{\"color\":\"white\"}},\"header\":{\"fill\":{\"color\":\"#C8D4E3\"},\"line\":{\"color\":\"white\"}},\"type\":\"table\"}],\"barpolar\":[{\"marker\":{\"line\":{\"color\":\"#E5ECF6\",\"width\":0.5},\"pattern\":{\"fillmode\":\"overlay\",\"size\":10,\"solidity\":0.2}},\"type\":\"barpolar\"}],\"pie\":[{\"automargin\":true,\"type\":\"pie\"}]},\"layout\":{\"autotypenumbers\":\"strict\",\"colorway\":[\"#636efa\",\"#EF553B\",\"#00cc96\",\"#ab63fa\",\"#FFA15A\",\"#19d3f3\",\"#FF6692\",\"#B6E880\",\"#FF97FF\",\"#FECB52\"],\"font\":{\"color\":\"#2a3f5f\"},\"hovermode\":\"closest\",\"hoverlabel\":{\"align\":\"left\"},\"paper_bgcolor\":\"white\",\"plot_bgcolor\":\"#E5ECF6\",\"polar\":{\"bgcolor\":\"#E5ECF6\",\"angularaxis\":{\"gridcolor\":\"white\",\"linecolor\":\"white\",\"ticks\":\"\"},\"radialaxis\":{\"gridcolor\":\"white\",\"linecolor\":\"white\",\"ticks\":\"\"}},\"ternary\":{\"bgcolor\":\"#E5ECF6\",\"aaxis\":{\"gridcolor\":\"white\",\"linecolor\":\"white\",\"ticks\":\"\"},\"baxis\":{\"gridcolor\":\"white\",\"linecolor\":\"white\",\"ticks\":\"\"},\"caxis\":{\"gridcolor\":\"white\",\"linecolor\":\"white\",\"ticks\":\"\"}},\"coloraxis\":{\"colorbar\":{\"outlinewidth\":0,\"ticks\":\"\"}},\"colorscale\":{\"sequential\":[[0.0,\"#0d0887\"],[0.1111111111111111,\"#46039f\"],[0.2222222222222222,\"#7201a8\"],[0.3333333333333333,\"#9c179e\"],[0.4444444444444444,\"#bd3786\"],[0.5555555555555556,\"#d8576b\"],[0.6666666666666666,\"#ed7953\"],[0.7777777777777778,\"#fb9f3a\"],[0.8888888888888888,\"#fdca26\"],[1.0,\"#f0f921\"]],\"sequentialminus\":[[0.0,\"#0d0887\"],[0.1111111111111111,\"#46039f\"],[0.2222222222222222,\"#7201a8\"],[0.3333333333333333,\"#9c179e\"],[0.4444444444444444,\"#bd3786\"],[0.5555555555555556,\"#d8576b\"],[0.6666666666666666,\"#ed7953\"],[0.7777777777777778,\"#fb9f3a\"],[0.8888888888888888,\"#fdca26\"],[1.0,\"#f0f921\"]],\"diverging\":[[0,\"#8e0152\"],[0.1,\"#c51b7d\"],[0.2,\"#de77ae\"],[0.3,\"#f1b6da\"],[0.4,\"#fde0ef\"],[0.5,\"#f7f7f7\"],[0.6,\"#e6f5d0\"],[0.7,\"#b8e186\"],[0.8,\"#7fbc41\"],[0.9,\"#4d9221\"],[1,\"#276419\"]]},\"xaxis\":{\"gridcolor\":\"white\",\"linecolor\":\"white\",\"ticks\":\"\",\"title\":{\"standoff\":15},\"zerolinecolor\":\"white\",\"automargin\":true,\"zerolinewidth\":2},\"yaxis\":{\"gridcolor\":\"white\",\"linecolor\":\"white\",\"ticks\":\"\",\"title\":{\"standoff\":15},\"zerolinecolor\":\"white\",\"automargin\":true,\"zerolinewidth\":2},\"scene\":{\"xaxis\":{\"backgroundcolor\":\"#E5ECF6\",\"gridcolor\":\"white\",\"linecolor\":\"white\",\"showbackground\":true,\"ticks\":\"\",\"zerolinecolor\":\"white\",\"gridwidth\":2},\"yaxis\":{\"backgroundcolor\":\"#E5ECF6\",\"gridcolor\":\"white\",\"linecolor\":\"white\",\"showbackground\":true,\"ticks\":\"\",\"zerolinecolor\":\"white\",\"gridwidth\":2},\"zaxis\":{\"backgroundcolor\":\"#E5ECF6\",\"gridcolor\":\"white\",\"linecolor\":\"white\",\"showbackground\":true,\"ticks\":\"\",\"zerolinecolor\":\"white\",\"gridwidth\":2}},\"shapedefaults\":{\"line\":{\"color\":\"#2a3f5f\"}},\"annotationdefaults\":{\"arrowcolor\":\"#2a3f5f\",\"arrowhead\":0,\"arrowwidth\":1},\"geo\":{\"bgcolor\":\"white\",\"landcolor\":\"#E5ECF6\",\"subunitcolor\":\"white\",\"showland\":true,\"showlakes\":true,\"lakecolor\":\"white\"},\"title\":{\"x\":0.05},\"mapbox\":{\"style\":\"light\"}}},\"xaxis\":{\"anchor\":\"y\",\"domain\":[0.0,1.0],\"title\":{\"text\":\"Co-Author\"}},\"yaxis\":{\"anchor\":\"x\",\"domain\":[0.0,1.0],\"title\":{\"text\":\"Number of Shared Articles\"}},\"legend\":{\"tracegroupgap\":0},\"title\":{\"text\":\"Collaboration Metrics for Author with SID your_author_sid_here\"},\"barmode\":\"relative\"},                        {\"responsive\": true}                    ).then(function(){\n",
       "                            \n",
       "var gd = document.getElementById('506863a7-9ea9-4e30-ad01-17ec20b156d4');\n",
       "var x = new MutationObserver(function (mutations, observer) {{\n",
       "        var display = window.getComputedStyle(gd).display;\n",
       "        if (!display || display === 'none') {{\n",
       "            console.log([gd, 'removed!']);\n",
       "            Plotly.purge(gd);\n",
       "            observer.disconnect();\n",
       "        }}\n",
       "}});\n",
       "\n",
       "// Listen for the removal of the full notebook cells\n",
       "var notebookContainer = gd.closest('#notebook-container');\n",
       "if (notebookContainer) {{\n",
       "    x.observe(notebookContainer, {childList: true});\n",
       "}}\n",
       "\n",
       "// Listen for the clearing of the current output cell\n",
       "var outputEl = gd.closest('.output');\n",
       "if (outputEl) {{\n",
       "    x.observe(outputEl, {childList: true});\n",
       "}}\n",
       "\n",
       "                        })                };                });            </script>        </div>"
      ]
     },
     "metadata": {},
     "output_type": "display_data"
    }
   ],
   "source": [
    "# Plotting with Plotly\n",
    "fig = px.bar(collaboration_df, x='CO_AUTHOR', y='SHARED_ARTICLE_COUNT', text='TOTAL_CITATIONS',\n",
    "             hover_data=['TOTAL_CITATIONS'],\n",
    "             labels={\n",
    "                 'CO_AUTHOR': 'Co-Author',\n",
    "                 'SHARED_ARTICLE_COUNT': 'Number of Shared Articles',\n",
    "                 'TOTAL_CITATIONS': 'Total Citations'\n",
    "             },\n",
    "             title='Collaboration Metrics for Author with SID your_author_sid_here')\n",
    "\n",
    "fig.show()"
   ]
  }
 ],
 "metadata": {
  "kernelspec": {
   "display_name": "Python 3 (ipykernel)",
   "language": "python",
   "name": "python3"
  },
  "language_info": {
   "codemirror_mode": {
    "name": "ipython",
    "version": 3
   },
   "file_extension": ".py",
   "mimetype": "text/x-python",
   "name": "python",
   "nbconvert_exporter": "python",
   "pygments_lexer": "ipython3",
   "version": "3.10.11"
  }
 },
 "nbformat": 4,
 "nbformat_minor": 5
}
