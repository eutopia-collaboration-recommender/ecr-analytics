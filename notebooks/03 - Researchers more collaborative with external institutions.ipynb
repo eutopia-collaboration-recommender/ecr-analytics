{
 "cells": [
  {
   "cell_type": "markdown",
   "id": "2b4ee5755efbf27",
   "metadata": {
    "collapsed": false,
    "jupyter": {
     "outputs_hidden": false
    }
   },
   "source": [
    "# Which authors tends to be more collaborative with external institutions?\n",
    "\n",
    "In this script we will try to answer the question of which authors tends to be more collaborative with EUTOPIA institutions. "
   ]
  },
  {
   "metadata": {},
   "cell_type": "markdown",
   "source": [
    "## Brief overview\n",
    "\n",
    "We see that the number of external collaborations almost coincides with the number of publications. We observe the collaboration rate, which is the proportion of external collaborations to the total number of publications.\n",
    "\n",
    "we calculate the mean and median collaboration rates for authors with EUTOPIA institutions. The threshold for top collaborators is set as the median collaboration rate plus one standard deviation. We identify the top collaborators as those with collaboration rates higher than this threshold.\n",
    "\n",
    "At the time of writing, the threshold is: **95.77%**.\n",
    "\n",
    "We see that the collaboration\n",
    "\n",
    "\n",
    "The mean collaboration rate is 0.22, while the median collaboration rate is 0.73. The standard deviation of the collaboration rate is 0.73. We also identify the top collaborators as those with collaboration rates higher than the median plus one standard deviation.\n",
    "We also calculate the percentile of each author's collaboration rate based on the distribution of collaboration rates.\n",
    "This percentile represents the author's relative position compared to other authors in terms of collaboration rates.\n",
    "\n",
    "Results are saved to BigQuery table `FCT_AUTHOR_COLLABORATIVENESS`.\n",
    "\n"
   ],
   "id": "4608426cb9e7a6e9"
  },
  {
   "metadata": {},
   "cell_type": "markdown",
   "source": "## Global imports & settings",
   "id": "cfe43f969353bf93"
  },
  {
   "cell_type": "code",
   "id": "19080a0a068b28c7",
   "metadata": {
    "collapsed": false,
    "jupyter": {
     "outputs_hidden": false
    },
    "ExecuteTime": {
     "end_time": "2024-07-22T16:26:03.530175Z",
     "start_time": "2024-07-22T16:26:03.448127Z"
    }
   },
   "source": [
    "import matplotlib.pyplot as plt\n",
    "import numpy as np\n",
    "import pandas as pd\n",
    "import seaborn as sns\n",
    "from box import Box\n",
    "from google.cloud import bigquery\n",
    "from scipy.stats import percentileofscore"
   ],
   "outputs": [],
   "execution_count": 36
  },
  {
   "cell_type": "code",
   "id": "b0af612d3913b8c5",
   "metadata": {
    "ExecuteTime": {
     "end_time": "2024-07-22T16:26:03.597969Z",
     "start_time": "2024-07-22T16:26:03.566605Z"
    }
   },
   "source": [
    "# -------------------- GLOBAL VARIABLES --------------------\n",
    "PATH_TO_CONFIG_FILE = '../config.yml'\n",
    "\n",
    "# -------------------- LOAD CONFIGURATION --------------------\n",
    "# Load the configuration file\n",
    "config = Box.from_yaml(filename=PATH_TO_CONFIG_FILE)\n",
    "# Initialize a BigQuery client\n",
    "client = bigquery.Client(project=config.GCP.PROJECT_ID)\n",
    "# Set the BigQuery dataset schema\n",
    "schema = config.GCP.READ_SCHEMA\n",
    "# Set the BigQuery write dataset schema\n",
    "write_schema = config.GCP.ANALYTICS_SCHEMA\n",
    "# Set numpy random seed\n",
    "np.random.seed(config.RANDOM_SEED)\n",
    "\n",
    "# Target table name\n",
    "TARGET_TABLE_NAME = 'FCT_AUTHOR_COLLABORATIVENESS'"
   ],
   "outputs": [],
   "execution_count": 37
  },
  {
   "cell_type": "markdown",
   "id": "12b765dbe3073e07",
   "metadata": {},
   "source": [
    "## Data preparation\n",
    "After loading the general configuration, we will prepare the data from BigQuery:\n",
    "1. Count the number of publications and external collaborations for each author. \n",
    "2. Calculate the proportion of external collaborations for each author.\n",
    "3. Filter out authors from non-EUTOPIA institutions and authors with zero publications or zero collaborations.\n",
    "4. Clip the collaboration rate to avoid zero or one values and filter out outliers with extremely low numbers of publications."
   ]
  },
  {
   "cell_type": "code",
   "id": "60b71d16a7557bad",
   "metadata": {
    "ExecuteTime": {
     "end_time": "2024-07-22T16:26:14.156562Z",
     "start_time": "2024-07-22T16:26:03.598474Z"
    }
   },
   "source": [
    "# Read data via BigQuery\n",
    "query = f\"\"\"\n",
    "SELECT\n",
    "  AUTHOR_SID,\n",
    "  COUNT(ARTICLE_SID)                                                AS PUBLICATIONS,\n",
    "  COUNT(DISTINCT IF(IS_EXTERNAL_COLLABORATION, ARTICLE_SID, NULL))  AS EXTERNAL_COLLABORATIONS\n",
    "FROM\n",
    "    {schema}.FCT_COLLABORATION\n",
    "WHERE IS_ARTICLE_RELEVANT\n",
    "GROUP BY AUTHOR_SID\n",
    "\"\"\"\n",
    "df_transformed = client.query(query).to_dataframe()"
   ],
   "outputs": [],
   "execution_count": 38
  },
  {
   "metadata": {
    "ExecuteTime": {
     "end_time": "2024-07-22T16:26:14.204339Z",
     "start_time": "2024-07-22T16:26:14.156562Z"
    }
   },
   "cell_type": "code",
   "source": [
    "# Initialize data frame for transformation\n",
    "df_transformed_transformed = df_transformed.copy()\n",
    "\n",
    "# We need to calculate the proportion of external collaborations for each author\n",
    "df_transformed_transformed['COLLABORATION_RATE'] = df_transformed_transformed['EXTERNAL_COLLABORATIONS'] / df_transformed_transformed['PUBLICATIONS']\n",
    "\n",
    "# Handle zero publications or zero collaborations\n",
    "df_transformed_transformed = df_transformed_transformed[(df_transformed_transformed['PUBLICATIONS'] > 0) & (df_transformed_transformed['EXTERNAL_COLLABORATIONS'] >= 0)]\n",
    "# Filter out outliers with extremely low number of publications\n",
    "df_transformed_transformed = df_transformed_transformed[(df_transformed_transformed['PUBLICATIONS'] >= 10)]\n",
    "# Clip the collaboration rate to avoid zero or one values (outliers)\n",
    "df_transformed_transformed['COLLABORATION_RATE'] = np.clip(a=df_transformed_transformed['COLLABORATION_RATE'],\n",
    "                                   a_min=1e-6,\n",
    "                                   a_max=1 - 1e-6)"
   ],
   "id": "90f0083806b4fc59",
   "outputs": [],
   "execution_count": 39
  },
  {
   "metadata": {
    "ExecuteTime": {
     "end_time": "2024-07-22T16:26:15.282459Z",
     "start_time": "2024-07-22T16:26:14.204339Z"
    }
   },
   "cell_type": "code",
   "source": [
    "# Visualize the distributions of publications and external collaborations in side-by-side histograms\n",
    "# 1. Distribution of Publications per Author\n",
    "fig, (plt1, plt2, plt3) = plt.subplots(1, 3, figsize=(16, 6))\n",
    "sns.histplot(df_transformed[df_transformed['PUBLICATIONS'] > 50]['PUBLICATIONS'], bins=30, kde=True, ax=plt1)\n",
    "plt1.set_title('Distribution of Publications per Author')\n",
    "plt1.set_xlabel('Number of Publications')\n",
    "plt1.set_ylabel('Frequency')\n",
    "# 2. Distribution of External Collaborations per Author\n",
    "sns.histplot(df_transformed[df_transformed['PUBLICATIONS'] > 50]['EXTERNAL_COLLABORATIONS'], bins=30, kde=True, ax=plt2)\n",
    "plt2.set_title('Distribution of External Collaborations per Author')\n",
    "plt2.set_xlabel('Number of External Collaborations')\n",
    "plt2.set_ylabel('Frequency')\n",
    "\n",
    "# 3. Distribution of Collaboration Rates\n",
    "sns.histplot(df_transformed['COLLABORATION_RATE'], bins=30, kde=True, ax=plt3)\n",
    "plt3.set_title('Distribution of Collaboration Rates')\n",
    "plt3.set_xlabel('Collaboration Rate')\n",
    "plt3.set_ylabel('Frequency')\n",
    "plt.show()"
   ],
   "id": "6798cffe257d410f",
   "outputs": [
    {
     "ename": "KeyError",
     "evalue": "'COLLABORATION_RATE'",
     "output_type": "error",
     "traceback": [
      "\u001B[1;31m---------------------------------------------------------------------------\u001B[0m",
      "\u001B[1;31mKeyError\u001B[0m                                  Traceback (most recent call last)",
      "File \u001B[1;32mC:\\Development\\eutopia-collaboration-recommender\\ecr-analytics\\venv\\lib\\site-packages\\pandas\\core\\indexes\\base.py:3805\u001B[0m, in \u001B[0;36mIndex.get_loc\u001B[1;34m(self, key)\u001B[0m\n\u001B[0;32m   3804\u001B[0m \u001B[38;5;28;01mtry\u001B[39;00m:\n\u001B[1;32m-> 3805\u001B[0m     \u001B[38;5;28;01mreturn\u001B[39;00m \u001B[38;5;28;43mself\u001B[39;49m\u001B[38;5;241;43m.\u001B[39;49m\u001B[43m_engine\u001B[49m\u001B[38;5;241;43m.\u001B[39;49m\u001B[43mget_loc\u001B[49m\u001B[43m(\u001B[49m\u001B[43mcasted_key\u001B[49m\u001B[43m)\u001B[49m\n\u001B[0;32m   3806\u001B[0m \u001B[38;5;28;01mexcept\u001B[39;00m \u001B[38;5;167;01mKeyError\u001B[39;00m \u001B[38;5;28;01mas\u001B[39;00m err:\n",
      "File \u001B[1;32mindex.pyx:167\u001B[0m, in \u001B[0;36mpandas._libs.index.IndexEngine.get_loc\u001B[1;34m()\u001B[0m\n",
      "File \u001B[1;32mindex.pyx:196\u001B[0m, in \u001B[0;36mpandas._libs.index.IndexEngine.get_loc\u001B[1;34m()\u001B[0m\n",
      "File \u001B[1;32mpandas\\\\_libs\\\\hashtable_class_helper.pxi:7081\u001B[0m, in \u001B[0;36mpandas._libs.hashtable.PyObjectHashTable.get_item\u001B[1;34m()\u001B[0m\n",
      "File \u001B[1;32mpandas\\\\_libs\\\\hashtable_class_helper.pxi:7089\u001B[0m, in \u001B[0;36mpandas._libs.hashtable.PyObjectHashTable.get_item\u001B[1;34m()\u001B[0m\n",
      "\u001B[1;31mKeyError\u001B[0m: 'COLLABORATION_RATE'",
      "\nThe above exception was the direct cause of the following exception:\n",
      "\u001B[1;31mKeyError\u001B[0m                                  Traceback (most recent call last)",
      "Cell \u001B[1;32mIn[40], line 15\u001B[0m\n\u001B[0;32m     12\u001B[0m plt2\u001B[38;5;241m.\u001B[39mset_ylabel(\u001B[38;5;124m'\u001B[39m\u001B[38;5;124mFrequency\u001B[39m\u001B[38;5;124m'\u001B[39m)\n\u001B[0;32m     14\u001B[0m \u001B[38;5;66;03m# 3. Distribution of Collaboration Rates\u001B[39;00m\n\u001B[1;32m---> 15\u001B[0m sns\u001B[38;5;241m.\u001B[39mhistplot(\u001B[43mdf_transformed\u001B[49m\u001B[43m[\u001B[49m\u001B[38;5;124;43m'\u001B[39;49m\u001B[38;5;124;43mCOLLABORATION_RATE\u001B[39;49m\u001B[38;5;124;43m'\u001B[39;49m\u001B[43m]\u001B[49m, bins\u001B[38;5;241m=\u001B[39m\u001B[38;5;241m30\u001B[39m, kde\u001B[38;5;241m=\u001B[39m\u001B[38;5;28;01mTrue\u001B[39;00m, ax\u001B[38;5;241m=\u001B[39mplt3)\n\u001B[0;32m     16\u001B[0m plt3\u001B[38;5;241m.\u001B[39mset_title(\u001B[38;5;124m'\u001B[39m\u001B[38;5;124mDistribution of Collaboration Rates\u001B[39m\u001B[38;5;124m'\u001B[39m)\n\u001B[0;32m     17\u001B[0m plt3\u001B[38;5;241m.\u001B[39mset_xlabel(\u001B[38;5;124m'\u001B[39m\u001B[38;5;124mCollaboration Rate\u001B[39m\u001B[38;5;124m'\u001B[39m)\n",
      "File \u001B[1;32mC:\\Development\\eutopia-collaboration-recommender\\ecr-analytics\\venv\\lib\\site-packages\\pandas\\core\\frame.py:4102\u001B[0m, in \u001B[0;36mDataFrame.__getitem__\u001B[1;34m(self, key)\u001B[0m\n\u001B[0;32m   4100\u001B[0m \u001B[38;5;28;01mif\u001B[39;00m \u001B[38;5;28mself\u001B[39m\u001B[38;5;241m.\u001B[39mcolumns\u001B[38;5;241m.\u001B[39mnlevels \u001B[38;5;241m>\u001B[39m \u001B[38;5;241m1\u001B[39m:\n\u001B[0;32m   4101\u001B[0m     \u001B[38;5;28;01mreturn\u001B[39;00m \u001B[38;5;28mself\u001B[39m\u001B[38;5;241m.\u001B[39m_getitem_multilevel(key)\n\u001B[1;32m-> 4102\u001B[0m indexer \u001B[38;5;241m=\u001B[39m \u001B[38;5;28;43mself\u001B[39;49m\u001B[38;5;241;43m.\u001B[39;49m\u001B[43mcolumns\u001B[49m\u001B[38;5;241;43m.\u001B[39;49m\u001B[43mget_loc\u001B[49m\u001B[43m(\u001B[49m\u001B[43mkey\u001B[49m\u001B[43m)\u001B[49m\n\u001B[0;32m   4103\u001B[0m \u001B[38;5;28;01mif\u001B[39;00m is_integer(indexer):\n\u001B[0;32m   4104\u001B[0m     indexer \u001B[38;5;241m=\u001B[39m [indexer]\n",
      "File \u001B[1;32mC:\\Development\\eutopia-collaboration-recommender\\ecr-analytics\\venv\\lib\\site-packages\\pandas\\core\\indexes\\base.py:3812\u001B[0m, in \u001B[0;36mIndex.get_loc\u001B[1;34m(self, key)\u001B[0m\n\u001B[0;32m   3807\u001B[0m     \u001B[38;5;28;01mif\u001B[39;00m \u001B[38;5;28misinstance\u001B[39m(casted_key, \u001B[38;5;28mslice\u001B[39m) \u001B[38;5;129;01mor\u001B[39;00m (\n\u001B[0;32m   3808\u001B[0m         \u001B[38;5;28misinstance\u001B[39m(casted_key, abc\u001B[38;5;241m.\u001B[39mIterable)\n\u001B[0;32m   3809\u001B[0m         \u001B[38;5;129;01mand\u001B[39;00m \u001B[38;5;28many\u001B[39m(\u001B[38;5;28misinstance\u001B[39m(x, \u001B[38;5;28mslice\u001B[39m) \u001B[38;5;28;01mfor\u001B[39;00m x \u001B[38;5;129;01min\u001B[39;00m casted_key)\n\u001B[0;32m   3810\u001B[0m     ):\n\u001B[0;32m   3811\u001B[0m         \u001B[38;5;28;01mraise\u001B[39;00m InvalidIndexError(key)\n\u001B[1;32m-> 3812\u001B[0m     \u001B[38;5;28;01mraise\u001B[39;00m \u001B[38;5;167;01mKeyError\u001B[39;00m(key) \u001B[38;5;28;01mfrom\u001B[39;00m \u001B[38;5;21;01merr\u001B[39;00m\n\u001B[0;32m   3813\u001B[0m \u001B[38;5;28;01mexcept\u001B[39;00m \u001B[38;5;167;01mTypeError\u001B[39;00m:\n\u001B[0;32m   3814\u001B[0m     \u001B[38;5;66;03m# If we have a listlike key, _check_indexing_error will raise\u001B[39;00m\n\u001B[0;32m   3815\u001B[0m     \u001B[38;5;66;03m#  InvalidIndexError. Otherwise we fall through and re-raise\u001B[39;00m\n\u001B[0;32m   3816\u001B[0m     \u001B[38;5;66;03m#  the TypeError.\u001B[39;00m\n\u001B[0;32m   3817\u001B[0m     \u001B[38;5;28mself\u001B[39m\u001B[38;5;241m.\u001B[39m_check_indexing_error(key)\n",
      "\u001B[1;31mKeyError\u001B[0m: 'COLLABORATION_RATE'"
     ]
    },
    {
     "data": {
      "text/plain": [
       "<Figure size 1600x600 with 3 Axes>"
      ],
      "image/png": "[encoded data removed]"
     },
     "metadata": {},
     "output_type": "display_data"
    }
   ],
   "execution_count": 40
  },
  {
   "cell_type": "markdown",
   "id": "183ad6b1c672f692",
   "metadata": {},
   "source": [
    "## Descritive statistics\n",
    "\n",
    "We will calculate some base descriptive statistics for the collaboration rate of authors with EUTOPIA institutions. Using mean and median values, we can get a sense of the central tendency of the collaboration rates. The standard deviation provides information about the variability of the collaboration rates. Due to the skewed distribution of publications and external collaborations, we use the median as a more robust measure of central tendency and standard deviation as a measure of variability."
   ]
  },
  {
   "cell_type": "code",
   "id": "482799cd19660c61",
   "metadata": {
    "collapsed": false,
    "jupyter": {
     "outputs_hidden": false
    }
   },
   "source": [
    "# Calculate descriptive statistics\n",
    "mean_collab_rate = df_transformed['COLLABORATION_RATE'].mean()\n",
    "median_collab_rate = df_transformed['COLLABORATION_RATE'].median()\n",
    "std_collab_rate = df_transformed['COLLABORATION_RATE'].std()\n",
    "# Outputs\n",
    "print(f'Mean Collaboration Rate: {mean_collab_rate:.2f}')\n",
    "print(f'Median Collaboration Rate: {median_collab_rate:.2f}')\n",
    "print(f'Standard Deviation of Collaboration Rate: {std_collab_rate:.2f}')\n",
    "\n",
    "# Identify top collaborators (those with collaboration rates above median + std)\n",
    "threshold = median_collab_rate + std_collab_rate\n",
    "top_collaborators = df_transformed[df_transformed['COLLABORATION_RATE'] > threshold]\n",
    "# Outputs\n",
    "print(f'Threshold for top collaborators: {threshold:.2f}')\n",
    "print(f'Number of top collaborators: {len(top_collaborators)}')"
   ],
   "outputs": [],
   "execution_count": null
  },
  {
   "metadata": {},
   "cell_type": "markdown",
   "source": [
    "## Analysis: author collaborativeness with external institutions\n",
    "\n",
    "The expected value of the collaboration rate\n",
    ", which represents the central tendency of the collaboration rates across all authors. We compare individual authors' collaboration rates to the inferred mean collaboration rate. Authors with collaboration rates higher than this mean are considered to be more collaborative with external institutions. \n",
    "\n",
    "Lastly, we calculate the percentile of each author's collaboration rate. This percentile represents the author's relative position compared to other authors in terms of collaboration rates. "
   ],
   "id": "7ef3c40e64e36ad8"
  },
  {
   "metadata": {},
   "cell_type": "markdown",
   "source": [
    "### Analyze percentiles of collaboration rates\n",
    "\n"
   ],
   "id": "f28b9c70312f730c"
  },
  {
   "metadata": {},
   "cell_type": "code",
   "source": [
    "# Calculate the collaboration rate percentiles for each author\n",
    "collaboration_rate_samples = df_transformed['COLLABORATION_RATE'].values\n",
    "collaboration_rate_samples_sorted = np.sort(collaboration_rate_samples)\n",
    "percentiles = np.array([percentileofscore(collaboration_rate_samples_sorted, x) for x in df_transformed['COLLABORATION_RATE']])\n",
    "df_transformed['COLLABORATION_RATE_PERCENTILE'] = percentiles\n",
    "\n",
    "# Get more collaborative authors\n",
    "df_transformed['IS_AUTHOR_HIGH_COLLABORATOR'] = df_transformed['COLLABORATION_RATE'] > threshold"
   ],
   "id": "ee114e46e6216258",
   "outputs": [],
   "execution_count": null
  },
  {
   "metadata": {},
   "cell_type": "markdown",
   "source": "Query author full names from the dimension to facilitate further analysis. This initially served to understand which authors are more collaborative with external institutions and use our topic knowledge to identify them and validate the results.",
   "id": "a9e7c7b0cd55dbc9"
  },
  {
   "metadata": {},
   "cell_type": "code",
   "source": [
    "# Query the author full names from DIM_AUTHOR table from BigQuery\n",
    "query = f\"\"\"\n",
    "SELECT\n",
    "    A.AUTHOR_SID,\n",
    "    A.AUTHOR_FULL_NAME,\n",
    "    STRING_AGG(DISTINCT F.INSTITUTION_SID) AS INSTITUTIONS\n",
    "FROM\n",
    "    {schema}.FCT_COLLABORATION F\n",
    "INNER JOIN \n",
    "    {schema}.DIM_AUTHOR A USING(AUTHOR_SID)\n",
    "WHERE F.IS_ARTICLE_RELEVANT\n",
    "GROUP BY A.AUTHOR_SID, A.AUTHOR_FULL_NAME\n",
    "\"\"\"\n",
    "# Query the author full names\n",
    "df_transformed_author = client.query(query).to_dataframe()"
   ],
   "id": "e6cedcee6c8c6d1",
   "outputs": [],
   "execution_count": null
  },
  {
   "metadata": {},
   "cell_type": "markdown",
   "source": "Merge the top authors with their full names to facilitate further analysis. We will filter out authors working on institutions other than UNI_LJ and sort the authors by their collaboration rate percentiles in descending order. This will help us identify the most collaborative authors with external institutions. Since the author of this notebook was studying at UNI_LJ, we can validate the results based on the topic knowledge.",
   "id": "229388c3d5a4da81"
  },
  {
   "metadata": {},
   "cell_type": "code",
   "source": [
    "# Merge the top authors with their full names\n",
    "authors = df_transformed.merge(df_transformed_author, on='AUTHOR_SID')\n",
    "pd.set_option('display.max_rows', None)\n",
    "# Only show authors working on institution UNI_LJ\n",
    "authors[authors['INSTITUTIONS'].str.contains('UNI_LJ')].sort_values(by='COLLABORATION_RATE_PERCENTILE',\n",
    "                                                                    ascending=False).head(100)"
   ],
   "id": "2b115a360a90e797",
   "outputs": [],
   "execution_count": null
  },
  {
   "metadata": {},
   "cell_type": "markdown",
   "source": "### Save the results to BigQuery table: FCT_AUTHOR_COLLABORATIVENESS",
   "id": "794526c222a0c08a"
  },
  {
   "metadata": {},
   "cell_type": "code",
   "source": "df_transformed.head(5)",
   "id": "2d83bfcd754b115f",
   "outputs": [],
   "execution_count": null
  },
  {
   "metadata": {},
   "cell_type": "code",
   "source": [
    "# Save the results to BigQuery\n",
    "table_id = f\"{write_schema}.{TARGET_TABLE_NAME}\"\n",
    "job_config = bigquery.LoadJobConfig(\n",
    "    write_disposition=\"WRITE_TRUNCATE\",\n",
    ")\n",
    "\n",
    "job = client.load_table_from_dataframe(df_transformed, table_id, job_config=job_config)"
   ],
   "id": "20f7622df02104dd",
   "outputs": [],
   "execution_count": null
  }
 ],
 "metadata": {
  "kernelspec": {
   "display_name": "Python 3 (ipykernel)",
   "language": "python",
   "name": "python3"
  },
  "language_info": {
   "codemirror_mode": {
    "name": "ipython",
    "version": 3
   },
   "file_extension": ".py",
   "mimetype": "text/x-python",
   "name": "python",
   "nbconvert_exporter": "python",
   "pygments_lexer": "ipython3",
   "version": "3.10.14"
  }
 },
 "nbformat": 4,
 "nbformat_minor": 5
}
