{
 "cells": [
  {
   "cell_type": "markdown",
   "id": "3f31bd1add2ced50",
   "metadata": {},
   "source": [
    "# New collaborations are driven by search for expertise"
   ]
  },
  {
   "cell_type": "markdown",
   "id": "fa87deb662af8dfb",
   "metadata": {},
   "source": [
    "### Brief overview\n",
    "\n",
    "One of the factors that we assume affect new collaboration occurrence is seeking expertise. This may include a statistician influencing a research on cancer treatment or a laboratory for data technologies trying to enter the field of recommender systems and finding authors publishing a lot on the topic of graph neural networks. We assume seeking expertise is one of the major reasons behind new collaborations. For each article, we will check all the author pair distances between related articles to see if there new collaborations have significantly larger distances between author pairs compared to existing collaborations.\n",
    "\n",
    "**Key takeaways:**"
   ]
  },
  {
   "cell_type": "markdown",
   "id": "a14716f88a14b222",
   "metadata": {},
   "source": [
    "### Imports & Global Variables"
   ]
  },
  {
   "cell_type": "code",
   "execution_count": 1,
   "id": "72f50eee558e17ca",
   "metadata": {
    "ExecuteTime": {
     "start_time": "2024-12-27T13:09:03.615334Z"
    },
    "jupyter": {
     "is_executing": true
    }
   },
   "outputs": [],
   "source": [
    "import sys\n",
    "import os\n",
    "sys.path.insert(0, os.path.abspath(\"..\"))\n",
    "\n",
    "import math\n",
    "import numpy as np\n",
    "import polars as pl\n",
    "import pandas as pd\n",
    "import seaborn as sns\n",
    "import matplotlib.pyplot as plt\n",
    "\n",
    "from box import Box\n",
    "from tqdm import tqdm\n",
    "from datetime import date\n",
    "from itertools import combinations\n",
    "from collections import defaultdict\n",
    "from scipy.stats import ks_2samp\n",
    "from scipy.spatial.distance import cosine\n",
    "from scipy.stats import wasserstein_distance\n",
    "\n",
    "\n",
    "from util.postgres import create_sqlalchemy_engine, query_polars"
   ]
  },
  {
   "cell_type": "code",
   "execution_count": 2,
   "id": "c63a4e38ce2836a1",
   "metadata": {
    "ExecuteTime": {
     "end_time": "2024-12-17T17:53:42.960863Z",
     "start_time": "2024-12-17T17:53:42.876588Z"
    }
   },
   "outputs": [],
   "source": [
    "# -------------------- GLOBAL VARIABLES --------------------\n",
    "PATH_TO_CONFIG_FILE = '../config.yaml'\n",
    "\n",
    "# -------------------- LOAD CONFIGURATION --------------------\n",
    "# Load the configuration file\n",
    "config = Box.from_yaml(filename=PATH_TO_CONFIG_FILE)\n",
    "# Initialize a BigQuery client\n",
    "pg_engine = create_sqlalchemy_engine(\n",
    "    username=config.POSTGRES.USERNAME,\n",
    "    password=config.POSTGRES.PASSWORD,\n",
    "    host=config.POSTGRES.HOST,\n",
    "    port=config.POSTGRES.PORT,\n",
    "    database=config.POSTGRES.DATABASE,\n",
    "    schema=config.POSTGRES.SCHEMA\n",
    ")\n",
    "batch_size = 10000\n",
    "n_top_closest = 5\n",
    "\n",
    "# Set numpy random seed\n",
    "np.random.seed(config.RANDOM_SEED)\n",
    "sns.set_theme(style=\"whitegrid\", palette=\"pastel\")"
   ]
  },
  {
   "cell_type": "markdown",
   "id": "590a4f9a-4797-4ac1-a5f8-54d3224a9828",
   "metadata": {},
   "source": [
    "## Querying the data\n",
    "\n",
    "We query article embeddings, the related author pairs that hold the information about whether an author pair have already collaborated before publishing a given publication $p$ or not, and lastly we query the author article pairs that will allow us to see all the past articles of a particular author in order to understand their expertise in the field closely related to the given publication $p$."
   ]
  },
  {
   "cell_type": "code",
   "execution_count": 3,
   "id": "bed298a0-577d-4d76-ae59-38288870fe63",
   "metadata": {},
   "outputs": [
    {
     "name": "stdout",
     "output_type": "stream",
     "text": [
      "Rows fetched 10000 for batch 0\n",
      "Rows fetched 10000 for batch 1\n",
      "Rows fetched 10000 for batch 2\n",
      "Rows fetched 10000 for batch 3\n",
      "Rows fetched 10000 for batch 4\n",
      "Rows fetched 10000 for batch 5\n",
      "Rows fetched 10000 for batch 6\n",
      "Rows fetched 10000 for batch 7\n",
      "Rows fetched 10000 for batch 8\n",
      "Rows fetched 10000 for batch 9\n",
      "Rows fetched 10000 for batch 10\n",
      "Rows fetched 10000 for batch 11\n",
      "Rows fetched 10000 for batch 12\n",
      "Rows fetched 10000 for batch 13\n",
      "Rows fetched 10000 for batch 14\n",
      "Rows fetched 10000 for batch 15\n",
      "Rows fetched 10000 for batch 16\n",
      "Rows fetched 10000 for batch 17\n",
      "Rows fetched 10000 for batch 18\n",
      "Rows fetched 10000 for batch 19\n",
      "Rows fetched 10000 for batch 20\n",
      "Rows fetched 10000 for batch 21\n",
      "Rows fetched 10000 for batch 22\n",
      "Rows fetched 10000 for batch 23\n",
      "Rows fetched 10000 for batch 24\n",
      "Rows fetched 10000 for batch 25\n",
      "Rows fetched 10000 for batch 26\n",
      "Rows fetched 10000 for batch 27\n",
      "Rows fetched 10000 for batch 28\n",
      "Rows fetched 10000 for batch 29\n",
      "Rows fetched 10000 for batch 30\n",
      "Rows fetched 10000 for batch 31\n",
      "Rows fetched 10000 for batch 32\n",
      "Rows fetched 10000 for batch 33\n",
      "Rows fetched 10000 for batch 34\n",
      "Rows fetched 10000 for batch 35\n",
      "CPU times: user 3min 22s, sys: 42.9 s, total: 4min 5s\n",
      "Wall time: 6min 14s\n"
     ]
    }
   ],
   "source": [
    "%%time\n",
    "with pg_engine.raw_connection().cursor() as cur:\n",
    "    cur.execute(\"\"\"\n",
    "        SELECT article_id, article_embedding\n",
    "        FROM g_included_article_embedding\n",
    "    \"\"\")\n",
    "    # Initialize the Polars DataFrame\n",
    "    article_embedding_df: pl.DataFrame = pl.DataFrame()\n",
    "    ix = 0\n",
    "    # Fetch in chunks\n",
    "    while True:\n",
    "        rows = cur.fetchmany(size=batch_size)\n",
    "        if not rows:\n",
    "            break\n",
    "        # Append the rows to the Polars DataFrame\n",
    "        df_chunk = pl.DataFrame(rows, schema=[\"article_id\", \"article_embedding\"], orient=\"row\")\n",
    "    \n",
    "        # Concatenate chunk with the master DataFrame\n",
    "        article_embedding_df = pl.concat([article_embedding_df, df_chunk], how=\"vertical\")\n",
    "        print(f\"Rows fetched {batch_size} for batch {ix}\")\n",
    "        ix += 1"
   ]
  },
  {
   "cell_type": "code",
   "execution_count": 4,
   "id": "c0686a2a-916b-4892-a894-4812aaeb632d",
   "metadata": {},
   "outputs": [
    {
     "name": "stdout",
     "output_type": "stream",
     "text": [
      "CPU times: user 10.3 s, sys: 1.76 s, total: 12.1 s\n",
      "Wall time: 18.4 s\n"
     ]
    }
   ],
   "source": [
    "%%time\n",
    "sql_query = f\"\"\"\n",
    "SELECT f.article_id,\n",
    "       f.author_id,\n",
    "       f.co_author_id,\n",
    "       f.is_new_author_pair,\n",
    "       a.article_publication_dt\n",
    "FROM fct_new_author_pair f\n",
    "    INNER JOIN dim_article a \n",
    "        ON a.article_id = f.article_id\n",
    "WHERE f.author_id IN (SELECT author_id FROM g_included_author)\n",
    "    AND f.co_author_id IN (SELECT author_id FROM g_included_author)\n",
    "\"\"\"\n",
    "with pg_engine.connect() as conn:\n",
    "    df_author_pair = query_polars(conn=conn, query_str=sql_query)"
   ]
  },
  {
   "cell_type": "code",
   "execution_count": 5,
   "id": "d7e0b142-c3a6-44be-973a-e2da10f54013",
   "metadata": {},
   "outputs": [
    {
     "name": "stdout",
     "output_type": "stream",
     "text": [
      "CPU times: user 3.42 s, sys: 415 ms, total: 3.83 s\n",
      "Wall time: 7.41 s\n"
     ]
    }
   ],
   "source": [
    "%%time\n",
    "sql_query = f\"\"\"\n",
    "SELECT DISTINCT article_id,\n",
    "                author_id,\n",
    "                article_publication_dt\n",
    "FROM fct_collaboration\n",
    "WHERE author_id IN (SELECT author_id FROM g_included_author)\n",
    "ORDER BY article_publication_dt ASC\n",
    "\"\"\"\n",
    "\n",
    "with pg_engine.connect() as conn:\n",
    "    df_collab = query_polars(conn=conn, query_str=sql_query)"
   ]
  },
  {
   "cell_type": "markdown",
   "id": "42ef85b5-6063-4346-8bcc-80dc0ae5cf0d",
   "metadata": {},
   "source": [
    "## Prepocessing for optimization"
   ]
  },
  {
   "cell_type": "code",
   "execution_count": 6,
   "id": "562aab28-dedb-4dd0-9710-0d1eb50f3b45",
   "metadata": {},
   "outputs": [
    {
     "name": "stderr",
     "output_type": "stream",
     "text": [
      "354102it [01:13, 4836.43it/s]\n"
     ]
    }
   ],
   "source": [
    "# Build a lookup dictionary for article embeddings\n",
    "article_embeddings = {}\n",
    "for row in tqdm(article_embedding_df.iter_rows(named=True)):\n",
    "    article_id = row[\"article_id\"]\n",
    "    emb = row[\"article_embedding\"]\n",
    "    \n",
    "    if isinstance(emb, list):\n",
    "        emb = np.array(emb, dtype=np.float32)\n",
    "    article_embeddings[article_id] = emb"
   ]
  },
  {
   "cell_type": "code",
   "execution_count": 7,
   "id": "474c8ecf-f158-4c85-ad6e-654d2cef0b04",
   "metadata": {},
   "outputs": [
    {
     "name": "stderr",
     "output_type": "stream",
     "text": [
      "973511it [00:08, 114885.60it/s]\n"
     ]
    }
   ],
   "source": [
    "# Build a lookup dictionary for author articles\n",
    "author_articles_map = defaultdict(list)\n",
    "for row in tqdm(df_collab.iter_rows(named=True)):\n",
    "    author_id = row[\"author_id\"]\n",
    "    article_id = row[\"article_id\"]\n",
    "    article_publication_dt = row[\"article_publication_dt\"]\n",
    "    author_articles_map[author_id].append((article_id, article_publication_dt))\n",
    "\n",
    "# Sort each author's articles by publication date to handle \"before/after\" queries quickly.\n",
    "for author_id in author_articles_map:\n",
    "    author_articles_map[author_id].sort(key=lambda x: x[1])  "
   ]
  },
  {
   "cell_type": "code",
   "execution_count": 8,
   "id": "bc46d0ec-e06e-4997-a16f-556d5ea5c78d",
   "metadata": {},
   "outputs": [
    {
     "name": "stderr",
     "output_type": "stream",
     "text": [
      "2199026it [00:33, 66351.45it/s] \n"
     ]
    }
   ],
   "source": [
    "# Build a dictionary to check new/existing author pairs\n",
    "is_new_map = {}\n",
    "\n",
    "for row in tqdm(df_author_pair.iter_rows(named=True)):\n",
    "    article_id = row[\"article_id\"]\n",
    "    author_1_id = row[\"author_id\"]\n",
    "    author_2_id = row[\"co_author_id\"]\n",
    "    new_flag = row[\"is_new_author_pair\"]\n",
    "    \n",
    "    key = (article_id, frozenset([author_1_id, author_2_id]))\n",
    "    is_new_map[key] = new_flag"
   ]
  },
  {
   "cell_type": "markdown",
   "id": "cda33bb3-b778-4193-9f3f-abdcd91da284",
   "metadata": {},
   "source": [
    "## Distances test\n",
    "\n",
    "Given an article $p$ and the corresponding set of authors  $A_p$, we can separate the author pairs into two segments, where the following stands:\n",
    "- segment $C_{new}$ represents the author pairs that have not yet collaborated:\n",
    "\t$\\{c_x \\in C_{new}; x = (a_i, a_j), a_i \\in A_p, a_j \\in A_p\\}$, where authors $a_i$ and $a_j$ have not collaborated before publishing article $p$.\n",
    "- segment $C_{existing}$ represents the author pairs that have already collaborated:\n",
    "\t$\\{c_x \\in C_{existing}; x = (a_i, a_j), a_i \\in A_p, a_j \\in A_p\\}$, where authors $a_i$ and $a_j$ have already collaborated before publishing article $p$.\n",
    "\n",
    "Having these segments, we now define the distance for a given author pair $x=(a_i, a_j)$ as $\\delta_x=distance(a_i, a_j)$. Since we want to test whether the new collaboration was driven by search for expertise, we focus the distance function to article text embeddings of a given author pair. We do not want to confuse multiple research streams that a single author can have, hence we will cross-compare top N articles closest to given publication $p$ for both authors $a_i$ and $a_j$. We will apply cosine distance for cross-comparison at the article-pair level and use the maximum distance among the pairs to determine the distance at the author-pair level.\n",
    "\n",
    "After evaluating all the distances between author pairs, we will Wasserstein-1 distance $w$, i.e. earth mover's distance, to determine the distance between the distributions of distances on author pairs with existing collaborations versus distances on author pairs that have not yet collaborated before. Additionally, we will use the Kolmogorov-Smirnov test to see if there exists a statistically significant difference between the distributions.\n",
    "\n",
    "**NULL HYPOTHESIS** $H_0$: $w=0$\n"
   ]
  },
  {
   "cell_type": "code",
   "execution_count": 9,
   "id": "7ede4630-a453-4bd0-ab2e-b8e8495994be",
   "metadata": {},
   "outputs": [],
   "source": [
    "# Computing top-n closest articles for an author relative to article p\n",
    "def get_top_k_closest_articles(article_id: int,\n",
    "                               author_id: int,\n",
    "                               article_publication_dt: date, \n",
    "                               k: int = 5) -> list:\n",
    "    if article_id not in article_embeddings:\n",
    "        return []\n",
    "    \n",
    "    emb_p = article_embeddings[article_id]\n",
    "    \n",
    "    # Collect all the author's articles, excluding all the publications happening after\n",
    "    author_article_list_total = author_articles_map[author_id]\n",
    "    author_article_list = [\n",
    "        (article_i_id, article_i_publication_dt) for (article_i_id, article_i_publication_dt) in author_article_list_total\n",
    "        if article_i_publication_dt < article_publication_dt\n",
    "    ]\n",
    "\n",
    "    # If no relevant articles for this author, return empty\n",
    "    if not author_article_list:\n",
    "        return []\n",
    "\n",
    "    # Calculate the cosine distances to article p\n",
    "    distances = []\n",
    "    for (article_i_id, _) in author_article_list:\n",
    "        if article_i_id not in article_embeddings:\n",
    "            continue\n",
    "        emb_a = article_embeddings[article_i_id]\n",
    "        dist = cosine(emb_p, emb_a) \n",
    "        distances.append((article_i_id, dist))\n",
    "    \n",
    "    # Sort by distance ascending (closest first)\n",
    "    distances.sort(key=lambda x: x[1])\n",
    "    \n",
    "    # Return top k\n",
    "    return distances[:k]"
   ]
  },
  {
   "cell_type": "code",
   "execution_count": 10,
   "id": "54f4d7c5-7ae1-49d6-badd-1cee91ef68ba",
   "metadata": {},
   "outputs": [],
   "source": [
    "# Computing the distance measure for each pair (a_i, a_j) given article p\n",
    "#    1. We retrieve top-n closest articles from a_i and from a_j published before article p\n",
    "#    2. We do a cross-comparison for all n x n pairs in embeddings and measure the maximum distance\n",
    "def compute_pair_distance(article_id: int, \n",
    "                          author_i_id: int, \n",
    "                          author_j_id: int,\n",
    "                          article_publication_dt: date) -> float:\n",
    "\n",
    "    # Get closest articles\n",
    "    top_n_i = get_top_k_closest_articles(article_id=article_id, \n",
    "                                         author_id=author_i_id, \n",
    "                                         article_publication_dt=article_publication_dt,\n",
    "                                         k=n_top_closest)\n",
    "    top_n_j = get_top_k_closest_articles(article_id=article_id, \n",
    "                                         author_id=author_j_id, \n",
    "                                         article_publication_dt=article_publication_dt,\n",
    "                                         k=n_top_closest)\n",
    "    \n",
    "    # If for some reason we can't get any top articles:\n",
    "    if not top_n_i or not top_n_j:\n",
    "        return math.nan\n",
    "    \n",
    "    # Convert to just article IDs\n",
    "    top_n_i_ids = [x[0] for x in top_n_i]\n",
    "    top_n_j_ids = [x[0] for x in top_n_j]\n",
    "\n",
    "    # Calculate distances between authors' articles\n",
    "    distances_ij = []\n",
    "    for article_i_id in top_n_i_ids:\n",
    "        emb_i = article_embeddings.get(article_i_id)\n",
    "        if emb_i is None:\n",
    "            continue\n",
    "        for article_j_id in top_n_j_ids:\n",
    "            emb_j = article_embeddings.get(article_j_id)\n",
    "            if emb_j is None:\n",
    "                continue\n",
    "            d_ij = cosine(emb_i, emb_j)\n",
    "            distances_ij.append(d_ij)\n",
    "    \n",
    "    if len(distances_ij) == 0:\n",
    "        return math.nan\n",
    "    # Return the maximum distance as the author-pair level distance\n",
    "    return float(np.max(distances_ij))"
   ]
  },
  {
   "cell_type": "code",
   "execution_count": 11,
   "id": "abb31c70-8bb6-48ac-8454-a21339e6eee4",
   "metadata": {},
   "outputs": [],
   "source": [
    "# Group df_collab by article_id\n",
    "grouped = (df_collab\n",
    "           .group_by(\"article_id\", maintain_order=True).agg(\n",
    "               [\n",
    "                   pl.col(\"author_id\").alias(\"authors_of_article\"),\n",
    "                   pl.col(\"article_publication_dt\").first().alias(\"article_publication_dt\"),\n",
    "               ]\n",
    "           )\n",
    "           .filter(pl.col(\"article_id\").is_in(article_embeddings.keys()))\n",
    "          )"
   ]
  },
  {
   "cell_type": "code",
   "execution_count": 12,
   "id": "77e6b476-b156-4296-9830-e7feac6be915",
   "metadata": {
    "scrolled": true
   },
   "outputs": [
    {
     "name": "stderr",
     "output_type": "stream",
     "text": [
      "354102it [2:12:46, 44.45it/s]  \n"
     ]
    }
   ],
   "source": [
    "distances_new = []\n",
    "distances_existing = []\n",
    "\n",
    "author_pair_distances = []\n",
    "\n",
    "# Iterate over articles\n",
    "for row in tqdm(grouped.iter_rows(named=True)):\n",
    "    article_id = row[\"article_id\"]\n",
    "    authors_of_article = row[\"authors_of_article\"]\n",
    "    article_publication_dt = row[\"article_publication_dt\"]  \n",
    "    \n",
    "    # Iterate over all pair combinations among authors of article p\n",
    "    for (author_i_id, author_j_id) in combinations(authors_of_article, 2):\n",
    "        # Build the lookup key for is_new_map\n",
    "        key = (article_id, frozenset([author_i_id, author_j_id]))\n",
    "        if key not in is_new_map:\n",
    "            # Skip if not found\n",
    "            continue\n",
    "        \n",
    "        is_new = is_new_map[key]\n",
    "        \n",
    "        # Compute distance for a pair of authors\n",
    "        pair_dist = compute_pair_distance(article_id, author_i_id, author_j_id, article_publication_dt)\n",
    "        if math.isnan(pair_dist):\n",
    "            # skip if we couldn't compute anything\n",
    "            continue\n",
    "        # Append to all author pair distances to be able to find a few examples\n",
    "        author_pair_distances.append(dict(\n",
    "            article_id=article_id,\n",
    "            author_id=author_i_id,\n",
    "            co_author_id=author_j_id,\n",
    "            distance=pair_dist\n",
    "        ))\n",
    "        # Append to the appropriate distance list\n",
    "        if is_new:\n",
    "            distances_new.append(pair_dist)\n",
    "        else:\n",
    "            distances_existing.append(pair_dist)"
   ]
  },
  {
   "cell_type": "code",
   "execution_count": 13,
   "id": "ceaa9854-b5bc-425b-8b3b-6690d5c6d9c7",
   "metadata": {},
   "outputs": [
    {
     "name": "stdout",
     "output_type": "stream",
     "text": [
      "Number of new collaborations: 519882\n",
      "Number of existing collaborations: 1412433\n"
     ]
    },
    {
     "data": {
      "text/html": [
       "<div>\n",
       "<style scoped>\n",
       "    .dataframe tbody tr th:only-of-type {\n",
       "        vertical-align: middle;\n",
       "    }\n",
       "\n",
       "    .dataframe tbody tr th {\n",
       "        vertical-align: top;\n",
       "    }\n",
       "\n",
       "    .dataframe thead th {\n",
       "        text-align: right;\n",
       "    }\n",
       "</style>\n",
       "<table border=\"1\" class=\"dataframe\">\n",
       "  <thead>\n",
       "    <tr style=\"text-align: right;\">\n",
       "      <th></th>\n",
       "      <th>collaboration_type</th>\n",
       "      <th>distance</th>\n",
       "    </tr>\n",
       "  </thead>\n",
       "  <tbody>\n",
       "    <tr>\n",
       "      <th>219126</th>\n",
       "      <td>new</td>\n",
       "      <td>0.173628</td>\n",
       "    </tr>\n",
       "    <tr>\n",
       "      <th>40673</th>\n",
       "      <td>new</td>\n",
       "      <td>0.106177</td>\n",
       "    </tr>\n",
       "    <tr>\n",
       "      <th>464814</th>\n",
       "      <td>new</td>\n",
       "      <td>0.213477</td>\n",
       "    </tr>\n",
       "    <tr>\n",
       "      <th>311612</th>\n",
       "      <td>new</td>\n",
       "      <td>0.157407</td>\n",
       "    </tr>\n",
       "    <tr>\n",
       "      <th>59208</th>\n",
       "      <td>new</td>\n",
       "      <td>0.179392</td>\n",
       "    </tr>\n",
       "  </tbody>\n",
       "</table>\n",
       "</div>"
      ],
      "text/plain": [
       "       collaboration_type  distance\n",
       "219126                new  0.173628\n",
       "40673                 new  0.106177\n",
       "464814                new  0.213477\n",
       "311612                new  0.157407\n",
       "59208                 new  0.179392"
      ]
     },
     "execution_count": 13,
     "metadata": {},
     "output_type": "execute_result"
    }
   ],
   "source": [
    "# Sample the data so that we'll have a balanced dataset over collabroation types\n",
    "n_new_collaborations = len(distances_new)\n",
    "n_existing_collaborations = len(distances_existing)\n",
    "min_collaboration_count = min(n_new_collaborations, n_existing_collaborations)\n",
    "print(f'Number of new collaborations: {n_new_collaborations}')\n",
    "print(f'Number of existing collaborations: {n_existing_collaborations}')\n",
    "\n",
    "# Sample the dataframe to a balanced dataset\n",
    "df_positive = pd.DataFrame([\n",
    "    {'collaboration_type': 'new', 'distance': dst}\n",
    "    for dst in distances_new\n",
    "]).sample(n=min_collaboration_count)\n",
    "df_negative = pd.DataFrame([\n",
    "    {'collaboration_type': 'existing', 'distance': dst}\n",
    "    for dst in distances_existing\n",
    "]).sample(n=min_collaboration_count)\n",
    "\n",
    "df_sampled = pd.concat([df_positive, df_negative])\n",
    "df_sampled.head(5)"
   ]
  },
  {
   "cell_type": "code",
   "execution_count": 22,
   "id": "faff5728-19ba-47f6-bad7-497509c7cc1c",
   "metadata": {},
   "outputs": [
    {
     "name": "stdout",
     "output_type": "stream",
     "text": [
      "new median: 0.17\n",
      "existing median: 0.13\n"
     ]
    },
    {
     "data": {
      "image/png": "[encoded data removed]",
      "text/plain": [
       "<Figure size 640x480 with 1 Axes>"
      ]
     },
     "metadata": {},
     "output_type": "display_data"
    }
   ],
   "source": [
    "# Get palette\n",
    "palette = sns.color_palette()\n",
    "\n",
    "df_sampled_plot = df_sampled.copy()\n",
    "df_sampled_plot['Collaboration type'] = df_sampled_plot['collaboration_type']\n",
    "\n",
    "# Determine the unique collaboration types in the order they should appear\n",
    "collaboration_order = df_sampled_plot['Collaboration type'].unique()\n",
    "# Draw histplot with KDEs\n",
    "sns.histplot(data=df_sampled_plot, \n",
    "             x='distance',\n",
    "             kde=True,\n",
    "             hue='Collaboration type',\n",
    "             hue_order=collaboration_order\n",
    "            )\n",
    "\n",
    "# Add medians with matching colors in the correct order\n",
    "palette = sns.color_palette(n_colors=len(collaboration_order))\n",
    "medians = df_sampled.groupby('collaboration_type')['distance'].median()\n",
    "for collaboration_type, color in zip(collaboration_order, palette):\n",
    "    median = medians[collaboration_type]\n",
    "    print(f'{collaboration_type} median: {median:.2f}')\n",
    "    plt.axvline(median, linestyle='--', color=color, label=f'{collaboration_type} median')\n",
    "\n",
    "plt.xlabel('Cosine distance between authors')\n",
    "plt.title(\"Distribution of author distances on new and existing collaborations\")\n",
    "plt.savefig('../assets/report_figures/factors_search_for_expertise_results.png')\n",
    "plt.show()"
   ]
  },
  {
   "cell_type": "code",
   "execution_count": 15,
   "id": "7e6e4aff-7d3e-46b2-8202-1b428c27f39a",
   "metadata": {},
   "outputs": [
    {
     "name": "stdout",
     "output_type": "stream",
     "text": [
      "Wasserstein-1 distance (new vs existing): 0.0387\n",
      "KS test stat: 0.3607, p-value: 0.0\n"
     ]
    }
   ],
   "source": [
    "# Extract distances for each collaboration type and convert to numpy arrays\n",
    "distances_new = np.array(df_sampled[df_sampled['collaboration_type'] == 'new']['distance'], dtype=np.float32)\n",
    "distances_existing = np.array(df_sampled[df_sampled['collaboration_type'] == 'existing']['distance'], dtype=np.float32)\n",
    "\n",
    "# Calculate the Wasserstein distnace, i.e. earth mover distance\n",
    "w_distance = wasserstein_distance(distances_new, distances_existing)\n",
    "print(f\"Wasserstein-1 distance (new vs existing): {w_distance:.4f}\")\n",
    "\n",
    "# Kolmogorov-Smirnov distribution equality test\n",
    "ks_stat, p_value = ks_2samp(distances_new, distances_existing)\n",
    "print(f\"KS test stat: {round(ks_stat, 4)}, p-value: {round(p_value, 4)}\")"
   ]
  },
  {
   "cell_type": "markdown",
   "id": "e6f7e507-ca23-42a6-8876-2119fcecef4b",
   "metadata": {},
   "source": [
    "## (optional) Clustering test\n",
    "\n",
    "Given an article $p$, we can cluster their authors into two clusters $C=\\{c_f, c_o\\}$, i.e. the cluster of the first author and the cluster of authors that significantly differ from the first author. We choose first author's cluster because we assume the first author is the most specified author in this field. Given our graph neural network models, these clusters will be based on author embeddings that relate to article text embeddings of the published articles and their previous collaborations. Since we assume convex clusters, we compare the centroids of the clusters $c_l$ and $c_o$ by evaluating the silhouette score. Next, we formulate the two collaboration datasets by distinguishing between new collaborations and existing collaborations: $D_{new}$ and $D_{existing}$.\n",
    "\n",
    "Derived from the silhouette score, we calculate the silhouette coefficients $SC_{new}$ and $SC_{existing}$ for  $D_{new}$ and $D_{existing}$, respectively.\n",
    "\n",
    "**NULL HYPOTHESIS** $H_0$: $SC_{new}$ <= $SC_{existing}$, or $SC_{new}<=0$\n",
    "\n",
    "Note that since we have a very imbalanced set of articles in terms of research area, i.e. most articles are in medicine, machine learning and pharmacy, we have to dilute the embedding space.\n",
    "\n",
    "**NOT IMPLEMENTED**"
   ]
  },
  {
   "cell_type": "markdown",
   "id": "a9c53acc-6adb-4749-9c92-ede9e7dcd902",
   "metadata": {},
   "source": [
    "## Top biggest differences between authors"
   ]
  },
  {
   "cell_type": "code",
   "execution_count": 16,
   "id": "f0264909-3b66-4b75-a910-1f2387b820d0",
   "metadata": {},
   "outputs": [
    {
     "data": {
      "text/html": [
       "<div>\n",
       "<style scoped>\n",
       "    .dataframe tbody tr th:only-of-type {\n",
       "        vertical-align: middle;\n",
       "    }\n",
       "\n",
       "    .dataframe tbody tr th {\n",
       "        vertical-align: top;\n",
       "    }\n",
       "\n",
       "    .dataframe thead th {\n",
       "        text-align: right;\n",
       "    }\n",
       "</style>\n",
       "<table border=\"1\" class=\"dataframe\">\n",
       "  <thead>\n",
       "    <tr style=\"text-align: right;\">\n",
       "      <th></th>\n",
       "      <th>article_id</th>\n",
       "      <th>author_id</th>\n",
       "      <th>co_author_id</th>\n",
       "      <th>distance</th>\n",
       "    </tr>\n",
       "  </thead>\n",
       "  <tbody>\n",
       "    <tr>\n",
       "      <th>3482</th>\n",
       "      <td>84903701937</td>\n",
       "      <td>15124716400</td>\n",
       "      <td>56187452900</td>\n",
       "      <td>0.507265</td>\n",
       "    </tr>\n",
       "    <tr>\n",
       "      <th>3481</th>\n",
       "      <td>84903701937</td>\n",
       "      <td>15124716400</td>\n",
       "      <td>6603110785</td>\n",
       "      <td>0.487093</td>\n",
       "    </tr>\n",
       "    <tr>\n",
       "      <th>3478</th>\n",
       "      <td>84903701937</td>\n",
       "      <td>35618885800</td>\n",
       "      <td>15124716400</td>\n",
       "      <td>0.486291</td>\n",
       "    </tr>\n",
       "    <tr>\n",
       "      <th>1125167</th>\n",
       "      <td>85085058237</td>\n",
       "      <td>55927168900</td>\n",
       "      <td>36101005700</td>\n",
       "      <td>0.451078</td>\n",
       "    </tr>\n",
       "    <tr>\n",
       "      <th>1125163</th>\n",
       "      <td>85085058237</td>\n",
       "      <td>15837900600</td>\n",
       "      <td>36101005700</td>\n",
       "      <td>0.451078</td>\n",
       "    </tr>\n",
       "    <tr>\n",
       "      <th>170909</th>\n",
       "      <td>84856035212</td>\n",
       "      <td>57203217666</td>\n",
       "      <td>15124716400</td>\n",
       "      <td>0.450402</td>\n",
       "    </tr>\n",
       "    <tr>\n",
       "      <th>922367</th>\n",
       "      <td>85061162271</td>\n",
       "      <td>8293136100</td>\n",
       "      <td>57201233781</td>\n",
       "      <td>0.447213</td>\n",
       "    </tr>\n",
       "    <tr>\n",
       "      <th>922378</th>\n",
       "      <td>85061118268</td>\n",
       "      <td>8293136100</td>\n",
       "      <td>57201233781</td>\n",
       "      <td>0.447213</td>\n",
       "    </tr>\n",
       "    <tr>\n",
       "      <th>145852</th>\n",
       "      <td>80053494504</td>\n",
       "      <td>7004528065</td>\n",
       "      <td>57221975472</td>\n",
       "      <td>0.446673</td>\n",
       "    </tr>\n",
       "    <tr>\n",
       "      <th>145847</th>\n",
       "      <td>80053494504</td>\n",
       "      <td>7006689507</td>\n",
       "      <td>57221975472</td>\n",
       "      <td>0.446673</td>\n",
       "    </tr>\n",
       "    <tr>\n",
       "      <th>640885</th>\n",
       "      <td>84987858841</td>\n",
       "      <td>55933782600</td>\n",
       "      <td>56574443400</td>\n",
       "      <td>0.445054</td>\n",
       "    </tr>\n",
       "    <tr>\n",
       "      <th>19833</th>\n",
       "      <td>70349556051</td>\n",
       "      <td>26767936600</td>\n",
       "      <td>7004166221</td>\n",
       "      <td>0.441867</td>\n",
       "    </tr>\n",
       "    <tr>\n",
       "      <th>17789</th>\n",
       "      <td>75849124815</td>\n",
       "      <td>7006119716</td>\n",
       "      <td>26326160800</td>\n",
       "      <td>0.440974</td>\n",
       "    </tr>\n",
       "    <tr>\n",
       "      <th>17791</th>\n",
       "      <td>75849124815</td>\n",
       "      <td>26326160800</td>\n",
       "      <td>14032423200</td>\n",
       "      <td>0.440974</td>\n",
       "    </tr>\n",
       "    <tr>\n",
       "      <th>17787</th>\n",
       "      <td>75849124815</td>\n",
       "      <td>35583629600</td>\n",
       "      <td>26326160800</td>\n",
       "      <td>0.440974</td>\n",
       "    </tr>\n",
       "    <tr>\n",
       "      <th>46493</th>\n",
       "      <td>77951997900</td>\n",
       "      <td>7006060216</td>\n",
       "      <td>57203105151</td>\n",
       "      <td>0.430553</td>\n",
       "    </tr>\n",
       "    <tr>\n",
       "      <th>33958</th>\n",
       "      <td>79952114801</td>\n",
       "      <td>57203105151</td>\n",
       "      <td>7006060216</td>\n",
       "      <td>0.430553</td>\n",
       "    </tr>\n",
       "    <tr>\n",
       "      <th>1169546</th>\n",
       "      <td>85083805891</td>\n",
       "      <td>57189634798</td>\n",
       "      <td>7005535777</td>\n",
       "      <td>0.428495</td>\n",
       "    </tr>\n",
       "    <tr>\n",
       "      <th>976090</th>\n",
       "      <td>85065843799</td>\n",
       "      <td>35312473100</td>\n",
       "      <td>26767936600</td>\n",
       "      <td>0.427902</td>\n",
       "    </tr>\n",
       "    <tr>\n",
       "      <th>14935</th>\n",
       "      <td>67449095069</td>\n",
       "      <td>7103386719</td>\n",
       "      <td>7006511569</td>\n",
       "      <td>0.423700</td>\n",
       "    </tr>\n",
       "  </tbody>\n",
       "</table>\n",
       "</div>"
      ],
      "text/plain": [
       "          article_id    author_id co_author_id  distance\n",
       "3482     84903701937  15124716400  56187452900  0.507265\n",
       "3481     84903701937  15124716400   6603110785  0.487093\n",
       "3478     84903701937  35618885800  15124716400  0.486291\n",
       "1125167  85085058237  55927168900  36101005700  0.451078\n",
       "1125163  85085058237  15837900600  36101005700  0.451078\n",
       "170909   84856035212  57203217666  15124716400  0.450402\n",
       "922367   85061162271   8293136100  57201233781  0.447213\n",
       "922378   85061118268   8293136100  57201233781  0.447213\n",
       "145852   80053494504   7004528065  57221975472  0.446673\n",
       "145847   80053494504   7006689507  57221975472  0.446673\n",
       "640885   84987858841  55933782600  56574443400  0.445054\n",
       "19833    70349556051  26767936600   7004166221  0.441867\n",
       "17789    75849124815   7006119716  26326160800  0.440974\n",
       "17791    75849124815  26326160800  14032423200  0.440974\n",
       "17787    75849124815  35583629600  26326160800  0.440974\n",
       "46493    77951997900   7006060216  57203105151  0.430553\n",
       "33958    79952114801  57203105151   7006060216  0.430553\n",
       "1169546  85083805891  57189634798   7005535777  0.428495\n",
       "976090   85065843799  35312473100  26767936600  0.427902\n",
       "14935    67449095069   7103386719   7006511569  0.423700"
      ]
     },
     "execution_count": 16,
     "metadata": {},
     "output_type": "execute_result"
    }
   ],
   "source": [
    "df_author_pair_distances = pd.DataFrame(author_pair_distances)\n",
    "df_author_pair_distances.sort_values(by=['distance'], ascending=False).head(20)"
   ]
  },
  {
   "cell_type": "markdown",
   "id": "f2234585-71a0-4a18-8ce2-15a987f7f66a",
   "metadata": {},
   "source": [
    "In these top biggest differences between authors, we notice an article with [**ID 75849124815**](https://www.researchgate.net/publication/233775959_Transformations_of_Ethyl_2-Amino-4-2-ethoxy-2-oxoethylthioazole-5-carboxylate_into_5-Substituted_2-Amino-4-oxo-45-dihydrothiazolo54-cpyridine-7-carboxylates), that was written by 4 authors: \n",
    "1. [**Alen Albreht**](https://www.ki.si/o-institutu/imenik/3/) as the first author,\n",
    "2. [**Jurij Svete**](https://uni-lj.academia.edu/JSvete),\n",
    "3. [**Uroš Uršič**](https://www.researchgate.net/scientific-contributions/Uros-Ursic-2004209228) and\n",
    "4. [**Branko Stanovnik**](https://www.sazu.si/clani/branko-stanovnik) as the lead author.\n",
    "\n",
    "Digging deeper into all these authors, we quickly realize that dr. Alen Albreht focuses on the chemistry of nutrition, whereas this article falls under the umbrella of organic chemistry, a field to which professor Branko Stanovnik dedicated his career. His research group at the time included both professor Jurij Svete and dr. Uršič. It is possible that dr. Alen Albreht searched for expertise in organic chemistry from this research group thus creating a new collaboration group."
   ]
  },
  {
   "cell_type": "code",
   "execution_count": 17,
   "id": "d677a495-3912-4ff6-bd69-0876e0be0b00",
   "metadata": {},
   "outputs": [
    {
     "data": {
      "text/html": [
       "<div><style>\n",
       ".dataframe > thead > tr,\n",
       ".dataframe > tbody > tr {\n",
       "  text-align: right;\n",
       "  white-space: pre-wrap;\n",
       "}\n",
       "</style>\n",
       "<small>shape: (3, 3)</small><table border=\"1\" class=\"dataframe\"><thead><tr><th>author_id</th><th>author</th><th>co_author</th></tr><tr><td>str</td><td>str</td><td>str</td></tr></thead><tbody><tr><td>&quot;26326160800&quot;</td><td>&quot;Alen Albreht&quot;</td><td>&quot;Stanovnik B.&quot;</td></tr><tr><td>&quot;26326160800&quot;</td><td>&quot;Alen Albreht&quot;</td><td>&quot;Svete J.&quot;</td></tr><tr><td>&quot;26326160800&quot;</td><td>&quot;Alen Albreht&quot;</td><td>&quot;Ursic U.&quot;</td></tr></tbody></table></div>"
      ],
      "text/plain": [
       "shape: (3, 3)\n",
       "┌─────────────┬──────────────┬──────────────┐\n",
       "│ author_id   ┆ author       ┆ co_author    │\n",
       "│ ---         ┆ ---          ┆ ---          │\n",
       "│ str         ┆ str          ┆ str          │\n",
       "╞═════════════╪══════════════╪══════════════╡\n",
       "│ 26326160800 ┆ Alen Albreht ┆ Stanovnik B. │\n",
       "│ 26326160800 ┆ Alen Albreht ┆ Svete J.     │\n",
       "│ 26326160800 ┆ Alen Albreht ┆ Ursic U.     │\n",
       "└─────────────┴──────────────┴──────────────┘"
      ]
     },
     "execution_count": 17,
     "metadata": {},
     "output_type": "execute_result"
    }
   ],
   "source": [
    "sql_query = f\"\"\"\n",
    "SELECT a.author_id,\n",
    "       a.author_name  as author,\n",
    "       ca.author_name as co_author\n",
    "FROM analitik.dim_author a\n",
    "         CROSS JOIN analitik.dim_author ca\n",
    "where ((a.author_id = '26326160800' and ca.author_id = '14032423200') or\n",
    "       (a.author_id = '26326160800' and ca.author_id = '7006119716') or\n",
    "       (a.author_id = '26326160800' and ca.author_id = '35583629600'))\n",
    "\"\"\"\n",
    "with pg_engine.connect() as conn:\n",
    "    df_example = query_polars(conn=conn, query_str=sql_query)\n",
    "df_example.head()"
   ]
  },
  {
   "cell_type": "code",
   "execution_count": 18,
   "id": "8fafd9ee-afa4-46dd-a545-e1d4b5950b02",
   "metadata": {},
   "outputs": [
    {
     "data": {
      "text/html": [
       "<div><style>\n",
       ".dataframe > thead > tr,\n",
       ".dataframe > tbody > tr {\n",
       "  text-align: right;\n",
       "  white-space: pre-wrap;\n",
       "}\n",
       "</style>\n",
       "<small>shape: (1, 12)</small><table border=\"1\" class=\"dataframe\"><thead><tr><th>article_id</th><th>article_doi</th><th>article_eid</th><th>article_title</th><th>article_journal_title</th><th>article_publication_dt</th><th>article_keywords</th><th>article_language</th><th>is_single_author_collaboration</th><th>is_internal_collaboration</th><th>is_external_collaboration</th><th>is_eutopia_collaboration</th></tr><tr><td>str</td><td>str</td><td>str</td><td>str</td><td>str</td><td>date</td><td>str</td><td>str</td><td>bool</td><td>bool</td><td>bool</td><td>bool</td></tr></thead><tbody><tr><td>&quot;75849124815&quot;</td><td>&quot;10.3987/COM-09-11711&quot;</td><td>&quot;2-s2.0-75849124815&quot;</td><td>&quot;Transformations of ethyl 2-ami…</td><td>&quot;Heterocycles&quot;</td><td>2009-09-01</td><td>&quot;{heterocycles,transformations,…</td><td>&quot;en&quot;</td><td>false</td><td>true</td><td>false</td><td>false</td></tr></tbody></table></div>"
      ],
      "text/plain": [
       "shape: (1, 12)\n",
       "┌───────────┬───────────┬───────────┬───────────┬───┬───────────┬───────────┬───────────┬──────────┐\n",
       "│ article_i ┆ article_d ┆ article_e ┆ article_t ┆ … ┆ is_single ┆ is_intern ┆ is_extern ┆ is_eutop │\n",
       "│ d         ┆ oi        ┆ id        ┆ itle      ┆   ┆ _author_c ┆ al_collab ┆ al_collab ┆ ia_colla │\n",
       "│ ---       ┆ ---       ┆ ---       ┆ ---       ┆   ┆ ollaborat ┆ oration   ┆ oration   ┆ boration │\n",
       "│ str       ┆ str       ┆ str       ┆ str       ┆   ┆ ion       ┆ ---       ┆ ---       ┆ ---      │\n",
       "│           ┆           ┆           ┆           ┆   ┆ ---       ┆ bool      ┆ bool      ┆ bool     │\n",
       "│           ┆           ┆           ┆           ┆   ┆ bool      ┆           ┆           ┆          │\n",
       "╞═══════════╪═══════════╪═══════════╪═══════════╪═══╪═══════════╪═══════════╪═══════════╪══════════╡\n",
       "│ 758491248 ┆ 10.3987/C ┆ 2-s2.0-75 ┆ Transform ┆ … ┆ false     ┆ true      ┆ false     ┆ false    │\n",
       "│ 15        ┆ OM-09-117 ┆ 849124815 ┆ ations of ┆   ┆           ┆           ┆           ┆          │\n",
       "│           ┆ 11        ┆           ┆ ethyl     ┆   ┆           ┆           ┆           ┆          │\n",
       "│           ┆           ┆           ┆ 2-ami…    ┆   ┆           ┆           ┆           ┆          │\n",
       "└───────────┴───────────┴───────────┴───────────┴───┴───────────┴───────────┴───────────┴──────────┘"
      ]
     },
     "execution_count": 18,
     "metadata": {},
     "output_type": "execute_result"
    }
   ],
   "source": [
    "sql_query = f\"\"\"\n",
    "SELECT *\n",
    "FROM analitik.dim_article\n",
    "WHERE article_id = '75849124815';\n",
    "\"\"\"\n",
    "with pg_engine.connect() as conn:\n",
    "    df_example = query_polars(conn=conn, query_str=sql_query)\n",
    "df_example.head()\n"
   ]
  }
 ],
 "metadata": {
  "kernelspec": {
   "display_name": "Python 3 (ipykernel)",
   "language": "python",
   "name": "python3"
  },
  "language_info": {
   "codemirror_mode": {
    "name": "ipython",
    "version": 3
   },
   "file_extension": ".py",
   "mimetype": "text/x-python",
   "name": "python",
   "nbconvert_exporter": "python",
   "pygments_lexer": "ipython3",
   "version": "3.10.13"
  }
 },
 "nbformat": 4,
 "nbformat_minor": 5
}
