{
 "cells": [
  {
   "cell_type": "markdown",
   "id": "3f31bd1add2ced50",
   "metadata": {},
   "source": [
    "# New collaborations impact author's research direction"
   ]
  },
  {
   "cell_type": "markdown",
   "id": "fa87deb662af8dfb",
   "metadata": {},
   "source": [
    "## Test description\n",
    "Our first assumption aims to prove the value of this thesis by testing that new collaborations significantly affect author's research direction. This can prove that it is worth searching for new collaborations. We will test this by comparing the author's embedding spaces before and after publishing an article and test how the embedding spaces differ after a new collaboration versus an existing collaboration. To this purpose, we propose two sets of tests, one checking the distances of articles published before and after the collaboration and the other one checking if we can learn to classify whether the collaboration happened before or after the publication $p$ given only article's contextual embeddings.\n",
    "\n",
    "**Key takeaway:** both tests gave us an indication that new collaborations do affect author's research direction but they were not strongly confirmed. We believe this is expected due to the sheer scale of variables that can affect authors. In other words, funding, groundbreaking new publications and even a seemingly unimportant article on author's favourite news channel can significantly affect author's research direction. However, this test gives us a reason to continue investigating the value that new collabroations clearly bring.\n",
    "\n"
   ]
  },
  {
   "cell_type": "markdown",
   "id": "a14716f88a14b222",
   "metadata": {},
   "source": [
    "## Imports & global variables"
   ]
  },
  {
   "cell_type": "code",
   "execution_count": 27,
   "id": "72f50eee558e17ca",
   "metadata": {
    "ExecuteTime": {
     "end_time": "2024-12-26T16:02:25.641131Z",
     "start_time": "2024-12-26T16:02:25.630130Z"
    }
   },
   "outputs": [],
   "source": [
    "import sys\n",
    "import os\n",
    "\n",
    "sys.path.insert(0, os.path.abspath(\"..\"))\n",
    "    \n",
    "import matplotlib.pyplot as plt\n",
    "import seaborn as sns\n",
    "import numpy as np\n",
    "import pandas as pd\n",
    "import xgboost\n",
    "\n",
    "from box import Box\n",
    "from tqdm import tqdm\n",
    "from sklearn.metrics import accuracy_score, recall_score\n",
    "from sklearn.metrics.pairwise import cosine_similarity\n",
    "from sklearn.model_selection import train_test_split\n",
    "from scipy.stats import wasserstein_distance\n",
    "from scipy.stats import ks_2samp\n",
    "from util.postgres import create_sqlalchemy_connection, query"
   ]
  },
  {
   "cell_type": "code",
   "execution_count": 13,
   "id": "c63a4e38ce2836a1",
   "metadata": {
    "ExecuteTime": {
     "end_time": "2024-12-26T15:58:44.446940Z",
     "start_time": "2024-12-26T15:58:44.226497Z"
    }
   },
   "outputs": [],
   "source": [
    "# -------------------- GLOBAL VARIABLES --------------------\n",
    "PATH_TO_CONFIG_FILE = '../config.yaml'\n",
    "\n",
    "# -------------------- LOAD CONFIGURATION --------------------\n",
    "# Load the configuration file\n",
    "config = Box.from_yaml(filename=PATH_TO_CONFIG_FILE)\n",
    "# Initialize a BigQuery client\n",
    "pg_connection = create_sqlalchemy_connection(\n",
    "    username=config.POSTGRES.USERNAME,\n",
    "    password=config.POSTGRES.PASSWORD,\n",
    "    host=config.POSTGRES.HOST,\n",
    "    port=config.POSTGRES.PORT,\n",
    "    database=config.POSTGRES.DATABASE,\n",
    "    schema=config.POSTGRES.SCHEMA\n",
    ")\n",
    "# Set numpy random seed\n",
    "np.random.seed(config.RANDOM_SEED)\n",
    "sns.set_theme(style=\"whitegrid\", palette=\"pastel\")\n",
    "\n",
    "n_authors = 1000\n",
    "n_min_articles = 15\n",
    "n_top_articles = 5"
   ]
  },
  {
   "cell_type": "markdown",
   "id": "ec876d34-541d-476a-a95f-af6b276d803c",
   "metadata": {},
   "source": [
    "### Querying the data\n",
    "\n",
    "We query $N$ authors having at least a predefined number of articles (in our case 15) and for each of their articles, define whether an articles is a new or an existing collaboration. We also exclude single author collaborations since those are not really needed. In the second query, we fetch all the relevant article embeddings."
   ]
  },
  {
   "cell_type": "code",
   "execution_count": 3,
   "id": "669d0a97026eda24",
   "metadata": {
    "ExecuteTime": {
     "end_time": "2024-12-26T15:58:48.892539Z",
     "start_time": "2024-12-26T15:58:44.914020Z"
    }
   },
   "outputs": [],
   "source": [
    "sql_query = f\"\"\"\n",
    "WITH authors AS (SELECT DISTINCT author_id\n",
    "                 FROM fct_collaboration\n",
    "                 GROUP BY author_id\n",
    "                 HAVING COUNT(DISTINCT article_id) > {n_min_articles}\n",
    "                 ORDER BY author_id\n",
    "                 LIMIT {n_authors}),\n",
    "     articles AS (SELECT DISTINCT c.author_id,\n",
    "                                  c.article_id,\n",
    "                                  c.article_publication_dt,\n",
    "                                  CASE\n",
    "                                      WHEN c.has_new_author_collaboration THEN 'new'\n",
    "                                      ELSE 'existing' END AS collaboration_type\n",
    "                  FROM fct_collaboration c\n",
    "                           INNER JOIN authors a\n",
    "                                      ON c.author_id = a.author_id\n",
    "                  WHERE c.is_single_author_collaboration = FALSE\n",
    "                    AND c.article_id IN (SELECT article_id\n",
    "                                         FROM article_text_embedding))\n",
    "SELECT author_id,\n",
    "       article_id,\n",
    "       article_publication_dt,\n",
    "       collaboration_type\n",
    "FROM articles\n",
    "ORDER BY author_id, article_publication_dt\n",
    "\"\"\"\n",
    "\n",
    "df = query(conn=pg_connection, query_str=sql_query)"
   ]
  },
  {
   "cell_type": "code",
   "execution_count": 4,
   "id": "bdb41eb236356587",
   "metadata": {
    "ExecuteTime": {
     "end_time": "2024-12-26T16:00:17.042383Z",
     "start_time": "2024-12-26T15:58:48.911536Z"
    }
   },
   "outputs": [],
   "source": [
    "sql_query = f\"\"\"\n",
    "WITH authors AS (SELECT DISTINCT author_id\n",
    "                 FROM fct_collaboration\n",
    "                 GROUP BY author_id\n",
    "                 HAVING COUNT(DISTINCT article_id) > {n_min_articles}\n",
    "                 ORDER BY author_id\n",
    "                 LIMIT {n_authors}),\n",
    "     articles AS (SELECT DISTINCT c.article_id\n",
    "                  FROM fct_collaboration c\n",
    "                           INNER JOIN authors a\n",
    "                                      ON c.author_id = a.author_id\n",
    "                  WHERE c.is_single_author_collaboration = FALSE\n",
    "                    AND c.article_id IN (SELECT article_id\n",
    "                                         FROM article_text_embedding))\n",
    "SELECT t.article_id,\n",
    "       t.article_text_embedding\n",
    "FROM article_text_embedding t\n",
    "INNER JOIN articles a USING (article_id)\n",
    "ORDER BY t.article_id\n",
    "\"\"\"\n",
    "\n",
    "df_embedding = query(conn=pg_connection, query_str=sql_query)"
   ]
  },
  {
   "cell_type": "markdown",
   "id": "1e98de26-23e1-42f3-8299-1cf4ff181326",
   "metadata": {},
   "source": [
    "## Distance test\n",
    "\n",
    "We first formulate the two collaboration datasets by distinguishing between new collaborations and existing collaborations: $D_{new}$ and $D_{existing}$. Then for each dataset we define article's research impact on author on a single article example. Given a publication $p$ and a set of authors $A$, we formulate embedding spaces: $E_{i,t<t_p}$ and $E_{i, t>t_p}$ for $i$-th author $a_i$. Next, we define the difference between the embeddings $Y_{i,b_j,a_k}$ for author $a_i$ and articles $p_{t<t_p,j}$ ($j$-th publication published before $p$) and $p_{t>t_p,k}$ ($k$-th publication published after $p$) as:\n",
    "\n",
    "$Y_{i, j, k} = cosine\\_dist(e_{i,j} , e_{i, k})$ , where $e_{i, j} \\in E_{i, t<t_p }$ , $e_{i, k} \\in E_{i, t>t_p}$ .\n",
    "\n",
    "$Y=\\{Y_{i, j, k}; i \\in |A|, j,k \\in {1...N}\\}$\n",
    "\n",
    "Note that this methodology could be deceiving due to single authors working on multiple research streams in parallel. To decrease the chance of mixing different streams, we will only take into account the closest publications before and after the given article was published, i.e. we will contraint $N$ to $N=5$.\n",
    "\n",
    "**NULL HYPOTHESIS** $H_0$: $Y/D_{new} - Y/D_{existing} = 0$"
   ]
  },
  {
   "cell_type": "code",
   "execution_count": 6,
   "id": "f914ec6e69bf38f",
   "metadata": {
    "ExecuteTime": {
     "end_time": "2024-12-26T17:34:27.605410Z",
     "start_time": "2024-12-26T17:33:21.109286Z"
    },
    "scrolled": true
   },
   "outputs": [
    {
     "name": "stderr",
     "output_type": "stream",
     "text": [
      "100%|████████████████████████████████████████████████████████████████████████████████████████████████████████████| 998/998 [03:31<00:00,  4.71it/s]\n"
     ]
    }
   ],
   "source": [
    "results = dict(\n",
    "    similarities=[],\n",
    "    closest_articles=[]\n",
    ")\n",
    "\n",
    "for author_id in tqdm(df['author_id'].unique()):\n",
    "    # Get the author's articles and sort them by publication date\n",
    "    df_author_articles = (df[df['author_id'] == author_id]\n",
    "                          .sort_values(\"article_publication_dt\")\n",
    "                          .reset_index(drop=True))\n",
    "\n",
    "    # Article embeddings of the author's articles indexed same as df_author_articles\n",
    "    df_author_article_embeddings = (\n",
    "        df_embedding[df_embedding['article_id'].isin(df_author_articles['article_id'])]\n",
    "        .set_index(\"article_id\")\n",
    "        .reindex(df_author_articles[\"article_id\"])\n",
    "        .reset_index()\n",
    "    )\n",
    "\n",
    "    # Vertical stack of article embeddings\n",
    "    author_article_embeddings = np.vstack(df_author_article_embeddings[\"article_text_embedding\"].values)\n",
    "\n",
    "    # Using cosine distance to calculate the distance matrix for all author's articles\n",
    "    S = cosine_similarity(author_article_embeddings)\n",
    "\n",
    "    # Iterate over the author's articles\n",
    "    for idx, row in df_author_articles.iterrows():\n",
    "        # Get the current article's information\n",
    "        article_id = row['article_id']\n",
    "        collaboration_type = row['collaboration_type']\n",
    "        article_publication_dt = row['article_publication_dt']\n",
    "\n",
    "        # Find current article's index in the author's article dataframe\n",
    "        current_index = df_author_articles.index[df_author_articles[\"article_id\"] == article_id][0]\n",
    "        # Create before/after masks\n",
    "        before_mask = df_author_articles[\"article_publication_dt\"] < article_publication_dt\n",
    "        after_mask = df_author_articles[\"article_publication_dt\"] > article_publication_dt\n",
    "        # Fetch indices of the articles before and after the current article\n",
    "        before_indices = np.where(before_mask)[0]\n",
    "        after_indices = np.where(after_mask)[0]\n",
    "\n",
    "        # If there are not enough articles before or after the current article, skip\n",
    "        if len(before_indices) < n_top_articles or len(after_indices) < n_top_articles:\n",
    "            continue\n",
    "\n",
    "        # Calculate top n most similar articles before the current article\n",
    "        similarities_before = S[current_index, before_indices]\n",
    "        idx_top_n_before_in_similarities_before = np.argsort(similarities_before)[::-1][:n_top_articles]\n",
    "\n",
    "        # Calculate top n most similar articles after the current article\n",
    "        similarities_after = S[current_index, after_indices]\n",
    "        idx_top_n_after_in_similarities_after = np.argsort(similarities_after)[::-1][:n_top_articles]\n",
    "\n",
    "        # Get the embeddings of the top n most similar articles before and after\n",
    "        embeddings_before = author_article_embeddings[idx_top_n_before_in_similarities_before]\n",
    "        embeddings_after = author_article_embeddings[idx_top_n_after_in_similarities_after]\n",
    "\n",
    "        # Calculate the cosine similarity between the current article and the top n most similar articles before and after\n",
    "        S_top = cosine_similarity(embeddings_before, embeddings_after)\n",
    "\n",
    "        # Cross-compare the top n most similar articles before and after the current article\n",
    "        for idy in range(n_top_articles):\n",
    "            results['similarities'].extend(\n",
    "                [\n",
    "                    dict(\n",
    "                        article_id=article_id,\n",
    "                        article_publication_dt=article_publication_dt,\n",
    "                        similarity=S_top[idy][idz],\n",
    "                        collaboration_type=collaboration_type\n",
    "                    ) for idz in range(n_top_articles)\n",
    "                ]\n",
    "            )\n",
    "\n",
    "            results['closest_articles'].append(\n",
    "                dict(\n",
    "                    article_id=article_id,\n",
    "                    similar_article_id=df_author_articles.loc[\n",
    "                        idx_top_n_before_in_similarities_before[idy], \"article_id\"],\n",
    "                    article_embedding=author_article_embeddings[current_index],\n",
    "                    similar_article_embedding=author_article_embeddings[idx_top_n_before_in_similarities_before[idy]],\n",
    "                    collaboration_type=collaboration_type,\n",
    "                    timeline='before'\n",
    "                )\n",
    "            )\n",
    "\n",
    "            results['closest_articles'].append(\n",
    "                dict(\n",
    "                    article_id=article_id,\n",
    "                    similar_article_id=df_author_articles.loc[\n",
    "                        idx_top_n_after_in_similarities_after[idy], \"article_id\"],\n",
    "                    article_embedding=author_article_embeddings[current_index],\n",
    "                    similar_article_embedding=author_article_embeddings[idx_top_n_after_in_similarities_after[idy]],\n",
    "                    collaboration_type=collaboration_type,\n",
    "                    timeline='after'\n",
    "                )\n",
    "            )\n"
   ]
  },
  {
   "cell_type": "code",
   "execution_count": 12,
   "id": "2ce72948-cce4-4b19-8986-7401dbd5dd8d",
   "metadata": {},
   "outputs": [],
   "source": [
    "df_similarities_total = pd.DataFrame(results['similarities'])\n",
    "# Fetch the number of minimum samples in both collaboration types\n",
    "n_new = df_similarities_total[df_similarities_total['collaboration_type'] == 'new']\n",
    "n_existing = df_similarities_total[df_similarities_total['collaboration_type'] == 'existing']\n",
    "n_samples = min(len(n_new), len(n_existing))\n",
    "\n",
    "# Create a dataset of similarities balanced on collabroation type\n",
    "df_similarities_new = df_similarities_total[df_similarities_total['collaboration_type'] == 'new'].sample(n=n_samples)\n",
    "df_similarities_existing = df_similarities_total[df_similarities_total['collaboration_type'] == 'existing'].sample(n=n_samples)\n",
    "df_similarities = pd.concat([df_similarities_new, df_similarities_existing])"
   ]
  },
  {
   "cell_type": "code",
   "execution_count": 41,
   "id": "af7c8a1ab1cd1c14",
   "metadata": {
    "ExecuteTime": {
     "end_time": "2024-12-26T16:36:59.449289Z",
     "start_time": "2024-12-26T16:36:52.022227Z"
    }
   },
   "outputs": [
    {
     "name": "stdout",
     "output_type": "stream",
     "text": [
      "new median: 0.89\n",
      "existing median: 0.88\n"
     ]
    },
    {
     "data": {
      "image/png": "[encoded data removed]",
      "text/plain": [
       "<Figure size 640x480 with 1 Axes>"
      ]
     },
     "metadata": {},
     "output_type": "display_data"
    }
   ],
   "source": [
    "# Get palette\n",
    "palette = sns.color_palette()\n",
    "\n",
    "# Determine the unique collaboration types in the order they should appear\n",
    "collaboration_order = df_similarities['collaboration_type'].unique()\n",
    "# Draw histplot with KDEs\n",
    "sns.histplot(data=df_similarities, \n",
    "             x='similarity',\n",
    "             kde=True,\n",
    "             hue='collaboration_type',\n",
    "             hue_order=collaboration_order\n",
    "            )\n",
    "\n",
    "# Add medians with matching colors in the correct order\n",
    "palette = sns.color_palette(n_colors=len(collaboration_order))\n",
    "medians = df_similarities.groupby('collaboration_type')['similarity'].median()\n",
    "for collaboration_type, color in zip(collaboration_order, palette):\n",
    "    median = medians[collaboration_type]\n",
    "    print(f'{collaboration_type} median: {median:.2f}')\n",
    "    plt.axvline(median, linestyle='--', color=color, label=f'{collaboration_type} median')\n",
    "\n",
    "plt.title(\"Distribution of cosine similarity between articles before and after collaboration\")\n",
    "plt.ylim(0, 6000)\n",
    "plt.xlim(0.7, 0.95)\n",
    "plt.show()"
   ]
  },
  {
   "cell_type": "code",
   "execution_count": 31,
   "id": "0959c414-0222-402f-8172-c3beab9b41a6",
   "metadata": {},
   "outputs": [
    {
     "name": "stdout",
     "output_type": "stream",
     "text": [
      "Wasserstein-1 distance (new vs existing): 0.0083\n",
      "KS test stat: 0.0898, p-value: 0.0\n"
     ]
    }
   ],
   "source": [
    "# Extract similarities for each collaboration type and convert to numpy arrays\n",
    "similarities_new = np.array(df_similarities_new['similarity'], dtype=np.float32)\n",
    "similarities_existing = np.array(df_similarities_existing['similarity'], dtype=np.float32)\n",
    "\n",
    "# Calculate the Wasserstein distnace, i.e. earth mover distance\n",
    "w_distance = wasserstein_distance(similarities_new, similarities_existing)\n",
    "print(f\"Wasserstein-1 distance (new vs existing): {w_distance:.4f}\")\n",
    "\n",
    "# Kolmogorov-Smirnov distribution equality test\n",
    "ks_stat, p_value = ks_2samp(similarities_new, similarities_existing)\n",
    "print(f\"KS test stat: {round(ks_stat, 4)}, p-value: {round(p_value, 4)}\")"
   ]
  },
  {
   "cell_type": "markdown",
   "id": "4ceb1096-1f7e-46fc-ac93-abbb0e2423b1",
   "metadata": {},
   "source": [
    "## Classifier test\n",
    "\n",
    "Additionally, we will formulate this as a classification problem, where $Y$ will be the target variable distinguishing between new collaborations $y_{new}$ and existing collaborations $y_{existing}$. Given a publication $p$, we will again take only the closest publications before and after the publication of article $p$. Based on article embeddings, we will try to predict whether an article was published before or after the given publication date. This will help us understand if there a significant difference in publications before and after a given publication. The hypothesis of author's research direction impact of new collaborations will be accepted if the classifier will outperform the baseline classifier that classifies articles randomly. "
   ]
  },
  {
   "cell_type": "code",
   "execution_count": 36,
   "id": "100300c5e66491c7",
   "metadata": {
    "ExecuteTime": {
     "end_time": "2024-12-26T17:40:16.815771Z",
     "start_time": "2024-12-26T17:40:16.551728Z"
    }
   },
   "outputs": [
    {
     "data": {
      "text/html": [
       "<div>\n",
       "<style scoped>\n",
       "    .dataframe tbody tr th:only-of-type {\n",
       "        vertical-align: middle;\n",
       "    }\n",
       "\n",
       "    .dataframe tbody tr th {\n",
       "        vertical-align: top;\n",
       "    }\n",
       "\n",
       "    .dataframe thead th {\n",
       "        text-align: right;\n",
       "    }\n",
       "</style>\n",
       "<table border=\"1\" class=\"dataframe\">\n",
       "  <thead>\n",
       "    <tr style=\"text-align: right;\">\n",
       "      <th></th>\n",
       "      <th>article_id</th>\n",
       "      <th>similar_article_id</th>\n",
       "      <th>article_embedding</th>\n",
       "      <th>similar_article_embedding</th>\n",
       "      <th>collaboration_type</th>\n",
       "      <th>timeline</th>\n",
       "      <th>timeline_label</th>\n",
       "    </tr>\n",
       "  </thead>\n",
       "  <tbody>\n",
       "    <tr>\n",
       "      <th>94494</th>\n",
       "      <td>84992386817</td>\n",
       "      <td>84983460903</td>\n",
       "      <td>[0.02819584682583809, 0.03383694589138031, -0....</td>\n",
       "      <td>[0.054728008806705475, 0.026653148233890533, -...</td>\n",
       "      <td>new</td>\n",
       "      <td>before</td>\n",
       "      <td>0</td>\n",
       "    </tr>\n",
       "    <tr>\n",
       "      <th>115746</th>\n",
       "      <td>85108226937</td>\n",
       "      <td>85053709377</td>\n",
       "      <td>[0.02498176507651806, 0.014295409433543682, 0....</td>\n",
       "      <td>[0.04579200968146324, 0.033657725900411606, 0....</td>\n",
       "      <td>new</td>\n",
       "      <td>before</td>\n",
       "      <td>0</td>\n",
       "    </tr>\n",
       "    <tr>\n",
       "      <th>10854</th>\n",
       "      <td>2-s2.0-85159254248</td>\n",
       "      <td>2-s2.0-85110957837</td>\n",
       "      <td>[0.022552279755473137, 0.01583985798060894, -0...</td>\n",
       "      <td>[0.027070682495832443, 0.0102175772190094, -0....</td>\n",
       "      <td>existing</td>\n",
       "      <td>before</td>\n",
       "      <td>0</td>\n",
       "    </tr>\n",
       "    <tr>\n",
       "      <th>136246</th>\n",
       "      <td>84870610123</td>\n",
       "      <td>78651297088</td>\n",
       "      <td>[0.019333094358444214, 0.014702977612614632, -...</td>\n",
       "      <td>[0.011120033450424671, 0.022417474538087845, -...</td>\n",
       "      <td>new</td>\n",
       "      <td>before</td>\n",
       "      <td>0</td>\n",
       "    </tr>\n",
       "    <tr>\n",
       "      <th>4396</th>\n",
       "      <td>2-s2.0-84893812582</td>\n",
       "      <td>2-s2.0-0035695496</td>\n",
       "      <td>[0.007889934815466404, 0.027911072596907616, -...</td>\n",
       "      <td>[0.021708734333515167, 0.05246253311634064, 0....</td>\n",
       "      <td>existing</td>\n",
       "      <td>before</td>\n",
       "      <td>0</td>\n",
       "    </tr>\n",
       "  </tbody>\n",
       "</table>\n",
       "</div>"
      ],
      "text/plain": [
       "                article_id  similar_article_id  \\\n",
       "94494          84992386817         84983460903   \n",
       "115746         85108226937         85053709377   \n",
       "10854   2-s2.0-85159254248  2-s2.0-85110957837   \n",
       "136246         84870610123         78651297088   \n",
       "4396    2-s2.0-84893812582   2-s2.0-0035695496   \n",
       "\n",
       "                                        article_embedding  \\\n",
       "94494   [0.02819584682583809, 0.03383694589138031, -0....   \n",
       "115746  [0.02498176507651806, 0.014295409433543682, 0....   \n",
       "10854   [0.022552279755473137, 0.01583985798060894, -0...   \n",
       "136246  [0.019333094358444214, 0.014702977612614632, -...   \n",
       "4396    [0.007889934815466404, 0.027911072596907616, -...   \n",
       "\n",
       "                                similar_article_embedding collaboration_type  \\\n",
       "94494   [0.054728008806705475, 0.026653148233890533, -...                new   \n",
       "115746  [0.04579200968146324, 0.033657725900411606, 0....                new   \n",
       "10854   [0.027070682495832443, 0.0102175772190094, -0....           existing   \n",
       "136246  [0.011120033450424671, 0.022417474538087845, -...                new   \n",
       "4396    [0.021708734333515167, 0.05246253311634064, 0....           existing   \n",
       "\n",
       "       timeline  timeline_label  \n",
       "94494    before               0  \n",
       "115746   before               0  \n",
       "10854    before               0  \n",
       "136246   before               0  \n",
       "4396     before               0  "
      ]
     },
     "execution_count": 36,
     "metadata": {},
     "output_type": "execute_result"
    }
   ],
   "source": [
    "df_closest_articles_total = pd.DataFrame(results['closest_articles'])\n",
    "df_closest_articles_total['timeline_label'] = df_closest_articles_total['timeline'].map({'before': 0, 'after': 1})\n",
    "\n",
    "# Fetch the number of minimum samples in both timeline types\n",
    "n_before = df_closest_articles_total[df_closest_articles_total['timeline'] == 'before']\n",
    "n_after = df_closest_articles_total[df_closest_articles_total['timeline'] == 'after']\n",
    "n_samples = min(len(n_before), len(n_after))\n",
    "\n",
    "# Create a dataset of similarities balanced on timeline type\n",
    "df_closest_articles_before = df_closest_articles_total[df_closest_articles_total['timeline'] == 'before'].sample(n=n_samples)\n",
    "df_closest_articles_after = df_closest_articles_total[df_closest_articles_total['timeline'] == 'after'].sample(n=n_samples)\n",
    "df_closest_articles = pd.concat([df_closest_articles_before, df_closest_articles_after])\n",
    "\n",
    "df_closest_articles.head(5)"
   ]
  },
  {
   "cell_type": "code",
   "execution_count": 37,
   "id": "893c0b2237746a54",
   "metadata": {
    "ExecuteTime": {
     "end_time": "2024-12-26T17:56:50.216474Z",
     "start_time": "2024-12-26T17:53:47.990998Z"
    }
   },
   "outputs": [
    {
     "name": "stderr",
     "output_type": "stream",
     "text": [
      "100%|████████████████████████████████████████████████████████████████████████████████████████████████████| 259890/259890 [03:59<00:00, 1084.52it/s]\n"
     ]
    }
   ],
   "source": [
    "X = list()\n",
    "y = list()\n",
    "for i in tqdm(range(len(df_closest_articles))):\n",
    "    sim_emb = df_closest_articles.loc[i, 'similar_article_embedding']\n",
    "    art_emb = df_closest_articles.loc[i, 'article_embedding']\n",
    "    # Convert to list (in case they're NumPy arrays), then concatenate\n",
    "    combined_emb = list(sim_emb) + list(art_emb)\n",
    "    X.append(combined_emb)\n",
    "    y.append(df_closest_articles.loc[i, 'timeline_label'])\n",
    "\n",
    "X = np.array(X) \n",
    "\n",
    "# Train test split 80/20\n",
    "X_train, X_test, y_train, y_test = train_test_split(\n",
    "    X, y,\n",
    "    test_size=0.2,\n",
    "    random_state=42\n",
    ")"
   ]
  },
  {
   "cell_type": "code",
   "execution_count": 38,
   "id": "7f47eccf1e591820",
   "metadata": {
    "ExecuteTime": {
     "end_time": "2024-12-26T18:01:08.369788Z",
     "start_time": "2024-12-26T17:57:18.942149Z"
    }
   },
   "outputs": [
    {
     "name": "stdout",
     "output_type": "stream",
     "text": [
      "Accuracy: 0.6725\n",
      "Recall:   0.6272\n"
     ]
    }
   ],
   "source": [
    "# Define the model, we use XGBoost classifier\n",
    "model = xgboost.XGBClassifier(\n",
    "    random_state=42,\n",
    "    eval_metric='logloss'\n",
    ")\n",
    "# Fit the model\n",
    "model.fit(X_train, y_train)\n",
    "\n",
    "# Predict on test set\n",
    "y_pred = model.predict(X_test)\n",
    "\n",
    "# Calculate accuracy and recall\n",
    "accuracy = accuracy_score(y_test, y_pred)\n",
    "recall = recall_score(y_test, y_pred)\n",
    "\n",
    "print(f\"Accuracy: {accuracy:.4f}\")\n",
    "print(f\"Recall:   {recall:.4f}\")"
   ]
  },
  {
   "cell_type": "code",
   "execution_count": 40,
   "id": "40a63fc8-aede-4097-a0a2-0272c2420269",
   "metadata": {},
   "outputs": [
    {
     "name": "stdout",
     "output_type": "stream",
     "text": [
      "Total importance for similar_article_embedding: 0.4667\n",
      "Total importance for article_embedding: 0.5333\n"
     ]
    },
    {
     "data": {
      "image/png": "[encoded data removed]",
      "text/plain": [
       "<Figure size 640x480 with 1 Axes>"
      ]
     },
     "metadata": {},
     "output_type": "display_data"
    }
   ],
   "source": [
    "# Feature importance analysis to see if any of the embedddings (similar or original article) \n",
    "# is more important than the other in classifying the timeline.\n",
    "feature_importances = model.feature_importances_\n",
    "\n",
    "# Split into groups\n",
    "n_features = len(feature_importances) // 2\n",
    "similar_article_importance = feature_importances[:n_features]\n",
    "article_importance = feature_importances[n_features:]\n",
    "\n",
    "# Aggregate importance\n",
    "similar_article_total = np.sum(similar_article_importance)\n",
    "article_total = np.sum(article_importance)\n",
    "\n",
    "print(f\"Total importance for similar_article_embedding: {similar_article_total:.4f}\")\n",
    "print(f\"Total importance for article_embedding: {article_total:.4f}\")\n",
    "\n",
    "# Visualization\n",
    "labels = ['Similar Article', 'Original Article']\n",
    "importance_values = [similar_article_total, article_total]\n",
    "\n",
    "plt.bar(labels, importance_values)\n",
    "plt.title(\"Aggregated feature importance by embedding\")\n",
    "plt.ylabel(\"Feature Importance\")\n",
    "plt.show()"
   ]
  },
  {
   "cell_type": "markdown",
   "id": "8916a119-add6-4ed0-9698-ca4c600ce1e1",
   "metadata": {},
   "source": [
    "## Top article impacts examples"
   ]
  },
  {
   "cell_type": "code",
   "execution_count": null,
   "id": "ae9d36fc-2d1d-4983-8647-55d8e20fdf77",
   "metadata": {},
   "outputs": [],
   "source": []
  }
 ],
 "metadata": {
  "kernelspec": {
   "display_name": "Python 3 (ipykernel)",
   "language": "python",
   "name": "python3"
  },
  "language_info": {
   "codemirror_mode": {
    "name": "ipython",
    "version": 3
   },
   "file_extension": ".py",
   "mimetype": "text/x-python",
   "name": "python",
   "nbconvert_exporter": "python",
   "pygments_lexer": "ipython3",
   "version": "3.10.13"
  }
 },
 "nbformat": 4,
 "nbformat_minor": 5
}
