{
 "cells": [
  {
   "cell_type": "markdown",
   "id": "8db736ad722f72e2",
   "metadata": {},
   "source": [
    "# Clustering co-authors\n",
    "\n",
    "When looking at a specific author, we want to be able to understand author's research streams. We can do that by looking at their co-authors and clustering them. Since our recommender system learned embeddings of authors that incorporate both the data about author's publication context as well as with which authors they collaborated, we can use those embeddings for clustering. We do not know how many research streams an author have, but we assume authors from the same research streams are close together, hence we use HDBSCAN, which is a density-based clustering algorithm that builds a hierarchy of clusters and does not require a pre-defined number of clusters to be passed.\n",
    "\n",
    "**Key takeaways:** \n"
   ]
  },
  {
   "cell_type": "markdown",
   "id": "2e2dfd09-40ca-4f1f-9677-cce3535304d1",
   "metadata": {},
   "source": [
    "### Imports & Global Variables"
   ]
  },
  {
   "cell_type": "code",
   "execution_count": 1,
   "id": "98929b746d12c274",
   "metadata": {
    "ExecuteTime": {
     "end_time": "2024-08-30T19:11:14.420118Z",
     "start_time": "2024-08-30T19:11:14.402534Z"
    }
   },
   "outputs": [],
   "source": [
    "import sys\n",
    "import os\n",
    "sys.path.insert(0, os.path.abspath(\"..\"))\n",
    "\n",
    "import hdbscan\n",
    "import numpy as np\n",
    "import pandas as pd\n",
    "import plotly.express as px\n",
    "import ipywidgets as widgets\n",
    "\n",
    "from box import Box\n",
    "from IPython.display import display\n",
    "from sklearn.manifold import TSNE\n",
    "\n",
    "from util.postgres import create_sqlalchemy_connection, query"
   ]
  },
  {
   "cell_type": "code",
   "execution_count": 2,
   "id": "a792718481b7b8ce",
   "metadata": {
    "ExecuteTime": {
     "end_time": "2024-08-30T19:11:14.436039Z",
     "start_time": "2024-08-30T19:11:14.422038Z"
    }
   },
   "outputs": [],
   "source": [
    "# -------------------- GLOBAL VARIABLES --------------------\n",
    "PATH_TO_CONFIG_FILE = '../config.yaml'\n",
    "\n",
    "# -------------------- LOAD CONFIGURATION --------------------\n",
    "# Load the configuration file\n",
    "config = Box.from_yaml(filename=PATH_TO_CONFIG_FILE)\n",
    "# Initialize a BigQuery client\n",
    "pg_connection = create_sqlalchemy_connection(\n",
    "    username=config.POSTGRES.USERNAME,\n",
    "    password=config.POSTGRES.PASSWORD,\n",
    "    host=config.POSTGRES.HOST,\n",
    "    port=config.POSTGRES.PORT,\n",
    "    database=config.POSTGRES.DATABASE,\n",
    "    schema=config.POSTGRES.SCHEMA\n",
    ")\n",
    "# Set numpy random seed\n",
    "np.random.seed(config.RANDOM_SEED)"
   ]
  },
  {
   "cell_type": "markdown",
   "id": "663369f8-a0bd-4168-8999-f3e2732a945a",
   "metadata": {},
   "source": [
    "## Data preparation"
   ]
  },
  {
   "cell_type": "code",
   "execution_count": 3,
   "id": "5156eb3980b43d41",
   "metadata": {
    "ExecuteTime": {
     "end_time": "2024-08-30T19:11:15.357270Z",
     "start_time": "2024-08-30T19:11:14.461592Z"
    }
   },
   "outputs": [],
   "source": [
    "# Get the authors\n",
    "author_query = f\"\"\"\n",
    "SELECT a.author_name AS author,\n",
    "       COUNT(DISTINCT article_id)                    AS article_count,\n",
    "       a.author_id\n",
    "FROM fct_collaboration c\n",
    "         INNER JOIN dim_author a\n",
    "                    ON c.author_id = a.author_id\n",
    "WHERE c.institution_id = 'UNI_LJ'\n",
    "GROUP BY author, a.author_id\n",
    "HAVING COUNT(DISTINCT article_id) > 10\n",
    "ORDER BY article_count DESC\n",
    "\"\"\"\n",
    "\n",
    "author_df = query(conn=pg_connection, query_str=author_query)"
   ]
  },
  {
   "cell_type": "code",
   "execution_count": 4,
   "id": "9fee62ed30cad307",
   "metadata": {
    "ExecuteTime": {
     "end_time": "2024-08-30T19:11:20.406547Z",
     "start_time": "2024-08-30T19:11:18.003144Z"
    },
    "scrolled": true
   },
   "outputs": [
    {
     "data": {
      "application/vnd.jupyter.widget-view+json": {
       "model_id": "43ada64718dc4b16ae7a92c12bbf91f7",
       "version_major": 2,
       "version_minor": 0
      },
      "text/plain": [
       "Dropdown(description='Author:', options=(('Sandi Klavzar', '7004427576'), ('Tadej Battelino', '8726399700'), (…"
      ]
     },
     "metadata": {},
     "output_type": "display_data"
    }
   ],
   "source": [
    "# Prepare an ipywidget filter\n",
    "# Construct a list of (author_label, author_id_value) tuples\n",
    "author_options = [\n",
    "    (row['author'], row['author_id']) \n",
    "    for _, row in author_df.iterrows()\n",
    "]\n",
    "\n",
    "author_dropdown = widgets.Dropdown(\n",
    "    options=author_options,             # Display = 'author', Value = 'author_id'\n",
    "    value=author_options[0][1],         # Set default selection to the first item's author_id\n",
    "    description='Author:',\n",
    "    style={'description_width': 'initial'}\n",
    ")\n",
    "\n",
    "display(author_dropdown)"
   ]
  },
  {
   "cell_type": "code",
   "execution_count": 5,
   "id": "03e19d8e-ac56-46cf-baf8-01c57c9eff2f",
   "metadata": {},
   "outputs": [
    {
     "data": {
      "text/html": [
       "<div>\n",
       "<style scoped>\n",
       "    .dataframe tbody tr th:only-of-type {\n",
       "        vertical-align: middle;\n",
       "    }\n",
       "\n",
       "    .dataframe tbody tr th {\n",
       "        vertical-align: top;\n",
       "    }\n",
       "\n",
       "    .dataframe thead th {\n",
       "        text-align: right;\n",
       "    }\n",
       "</style>\n",
       "<table border=\"1\" class=\"dataframe\">\n",
       "  <thead>\n",
       "    <tr style=\"text-align: right;\">\n",
       "      <th></th>\n",
       "      <th>author_id</th>\n",
       "      <th>author_name</th>\n",
       "      <th>embedding_tensor_data</th>\n",
       "    </tr>\n",
       "  </thead>\n",
       "  <tbody>\n",
       "    <tr>\n",
       "      <th>0</th>\n",
       "      <td>6603385749</td>\n",
       "      <td>Bresar B.</td>\n",
       "      <td>[-0.39506229758262634, -0.23991012573242188, -...</td>\n",
       "    </tr>\n",
       "    <tr>\n",
       "      <th>1</th>\n",
       "      <td>21934391300</td>\n",
       "      <td>Hafner-Bratkovic I.</td>\n",
       "      <td>[0.31950807571411133, -0.33037662506103516, 0....</td>\n",
       "    </tr>\n",
       "    <tr>\n",
       "      <th>2</th>\n",
       "      <td>35616671500</td>\n",
       "      <td>Tuza Z.</td>\n",
       "      <td>[-0.39623090624809265, -0.13684344291687012, 0...</td>\n",
       "    </tr>\n",
       "    <tr>\n",
       "      <th>3</th>\n",
       "      <td>24081926600</td>\n",
       "      <td>Yero I.G.</td>\n",
       "      <td>[-0.26588693261146545, -0.2626689374446869, 0....</td>\n",
       "    </tr>\n",
       "    <tr>\n",
       "      <th>4</th>\n",
       "      <td>57204123766</td>\n",
       "      <td>Gledel V.</td>\n",
       "      <td>[-0.40502962470054626, -0.30505064129829407, 0...</td>\n",
       "    </tr>\n",
       "  </tbody>\n",
       "</table>\n",
       "</div>"
      ],
      "text/plain": [
       "     author_id          author_name  \\\n",
       "0   6603385749            Bresar B.   \n",
       "1  21934391300  Hafner-Bratkovic I.   \n",
       "2  35616671500              Tuza Z.   \n",
       "3  24081926600            Yero I.G.   \n",
       "4  57204123766            Gledel V.   \n",
       "\n",
       "                               embedding_tensor_data  \n",
       "0  [-0.39506229758262634, -0.23991012573242188, -...  \n",
       "1  [0.31950807571411133, -0.33037662506103516, 0....  \n",
       "2  [-0.39623090624809265, -0.13684344291687012, 0...  \n",
       "3  [-0.26588693261146545, -0.2626689374446869, 0....  \n",
       "4  [-0.40502962470054626, -0.30505064129829407, 0...  "
      ]
     },
     "execution_count": 5,
     "metadata": {},
     "output_type": "execute_result"
    }
   ],
   "source": [
    "# Get co-authors\n",
    "co_author_embedding_query = f\"\"\"\n",
    "WITH co_authors AS (SELECT DISTINCT c2.author_id\n",
    "                    FROM fct_collaboration c1\n",
    "                             INNER JOIN fct_collaboration c2\n",
    "                                        ON c1.article_id = c2.article_id\n",
    "                                            AND c1.author_id <> c2.author_id\n",
    "                    WHERE c1.author_id = '{author_dropdown.value}')\n",
    "SELECT c.author_id,\n",
    "       a.author_name,\n",
    "       e.embedding_tensor_data::float8[] AS embedding_tensor_data\n",
    "FROM co_authors c\n",
    "         INNER JOIN dim_author a\n",
    "                    ON a.author_id = c.author_id\n",
    "         INNER JOIN author_embedding e\n",
    "                    ON a.author_id = e.author_id\n",
    "\"\"\"\n",
    "\n",
    "co_author_embedding_df = query(conn=pg_connection, query_str=co_author_embedding_query)\n",
    "co_author_embedding_df.head(5)"
   ]
  },
  {
   "cell_type": "markdown",
   "id": "fced30b4e1f1b2b3",
   "metadata": {},
   "source": [
    "## Clustering collaborations \n",
    "\n",
    "In this section we use the co-author embeddings to cluster the co-author using HDBSCAN algorithm."
   ]
  },
  {
   "cell_type": "code",
   "execution_count": 6,
   "id": "aa6bbde83e3df100",
   "metadata": {
    "ExecuteTime": {
     "end_time": "2024-08-30T19:11:20.467557Z",
     "start_time": "2024-08-30T19:11:20.452721Z"
    }
   },
   "outputs": [],
   "source": [
    "# Convert the embedding column into a single NumPy array.\n",
    "X = np.array(co_author_embedding_df['embedding_tensor_data'].tolist())"
   ]
  },
  {
   "cell_type": "code",
   "execution_count": 7,
   "id": "2da4d230-4b6f-40d3-80c9-0a23e19dd54a",
   "metadata": {},
   "outputs": [],
   "source": [
    "# Clustering\n",
    "def cluster(min_cluster_size_value: int, min_samples_value: int):\n",
    "    \"\"\"\n",
    "    Cluster co-authors using using HDBSCAN\n",
    "    \"\"\"\n",
    "    # HDBSCAN clustering\n",
    "    hdb = hdbscan.HDBSCAN(\n",
    "        min_cluster_size=min_cluster_size_value,\n",
    "        min_samples=min_samples_value,\n",
    "        gen_min_span_tree=True\n",
    "    )\n",
    "    labels = hdb.fit_predict(X)\n",
    "    \n",
    "    # Assign cluster labels back to the DataFrame\n",
    "    co_author_embedding_df['cluster'] = labels\n",
    "\n",
    "    # t-SNE dimensionality reduction (2D)\n",
    "    tsne = TSNE(\n",
    "        n_components=2, \n",
    "        random_state=42, \n",
    "        perplexity=30, \n",
    "        max_iter=1000, \n",
    "        learning_rate='auto'\n",
    "    )\n",
    "    tsne_result = tsne.fit_transform(X)\n",
    "    \n",
    "    # Store TSNE components in the DataFrame\n",
    "    co_author_embedding_df['t-SNE x'] = tsne_result[:, 0]\n",
    "    co_author_embedding_df['t-SNE y'] = tsne_result[:, 1]"
   ]
  },
  {
   "cell_type": "code",
   "execution_count": 15,
   "id": "5ec4307050336c3c",
   "metadata": {
    "ExecuteTime": {
     "end_time": "2024-08-30T19:11:20.545347Z",
     "start_time": "2024-08-30T19:11:20.531333Z"
    }
   },
   "outputs": [
    {
     "data": {
      "application/vnd.jupyter.widget-view+json": {
       "model_id": "cfb15601ccaa40c5945964c264d8492a",
       "version_major": 2,
       "version_minor": 0
      },
      "text/plain": [
       "IntSlider(value=3, description='min_cluster_size', max=20, min=2)"
      ]
     },
     "metadata": {},
     "output_type": "display_data"
    },
    {
     "data": {
      "application/vnd.jupyter.widget-view+json": {
       "model_id": "e915f2f143b949a58248053e3e945598",
       "version_major": 2,
       "version_minor": 0
      },
      "text/plain": [
       "IntSlider(value=2, description='min_samples', max=20, min=1)"
      ]
     },
     "metadata": {},
     "output_type": "display_data"
    },
    {
     "data": {
      "application/vnd.jupyter.widget-view+json": {
       "model_id": "3a7fdf05c0324b7ab71b5f4ffb0e2328",
       "version_major": 2,
       "version_minor": 0
      },
      "text/plain": [
       "Output()"
      ]
     },
     "metadata": {},
     "output_type": "display_data"
    }
   ],
   "source": [
    "min_cluster_size_slider = widgets.IntSlider(\n",
    "    value=3,\n",
    "    min=2,\n",
    "    max=20,\n",
    "    step=1,\n",
    "    description='min_cluster_size'\n",
    ")\n",
    "\n",
    "min_samples_slider = widgets.IntSlider(\n",
    "    value=2,\n",
    "    min=1,\n",
    "    max=20,\n",
    "    step=1,\n",
    "    description='min_samples'\n",
    ")\n",
    "\n",
    "out = widgets.Output()\n",
    "\n",
    "def update_plot(_):\n",
    "    \"\"\"\n",
    "    Callback function to re-run the clustering and update the plot when slider values change.\n",
    "    \"\"\"\n",
    "    with out:\n",
    "        out.clear_output()\n",
    "\n",
    "        # Perform HDBSCAN clustering\n",
    "        cluster(\n",
    "            min_cluster_size_value=min_cluster_size_slider.value, \n",
    "            min_samples_value=min_samples_slider.value\n",
    "        )\n",
    "        \n",
    "        # Create an interactive Plotly scatter plot\n",
    "        fig = px.scatter(\n",
    "            co_author_embedding_df,\n",
    "            x='t-SNE x',\n",
    "            y='t-SNE y',\n",
    "            color='cluster',\n",
    "            hover_data=['author_id', 'author_name'],\n",
    "            title=f'HDBSCAN (min_cluster_size={min_cluster_size_slider.value}, '\n",
    "                  f'min_samples={min_samples_slider.value})',\n",
    "            color_continuous_scale=px.colors.qualitative.Prism,\n",
    "            height=800\n",
    "        )\n",
    "\n",
    "        fig.show()\n",
    "\n",
    "# Observe changes in the sliders\n",
    "min_cluster_size_slider.observe(update_plot, names='value')\n",
    "min_samples_slider.observe(update_plot, names='value')\n",
    "\n",
    "# Display the sliders and the output\n",
    "display(min_cluster_size_slider, min_samples_slider, out)\n",
    "\n",
    "# Generate the initial plot\n",
    "update_plot(None)\n"
   ]
  }
 ],
 "metadata": {
  "kernelspec": {
   "display_name": "Python 3 (ipykernel)",
   "language": "python",
   "name": "python3"
  },
  "language_info": {
   "codemirror_mode": {
    "name": "ipython",
    "version": 3
   },
   "file_extension": ".py",
   "mimetype": "text/x-python",
   "name": "python",
   "nbconvert_exporter": "python",
   "pygments_lexer": "ipython3",
   "version": "3.10.13"
  }
 },
 "nbformat": 4,
 "nbformat_minor": 5
}
